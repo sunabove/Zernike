{
 "cells": [
  {
   "cell_type": "code",
   "execution_count": 1,
   "metadata": {},
   "outputs": [
    {
     "name": "stdout",
     "output_type": "stream",
     "text": [
      "Initializaing ray ...\n",
      "Initializing ray done.\n"
     ]
    }
   ],
   "source": [
    "import ray\n",
    "import time\n",
    "\n",
    "print( \"Initializaing ray ...\" )\n",
    "ray.init()\n",
    "print( \"Initializing ray done.\")"
   ]
  },
  {
   "cell_type": "code",
   "execution_count": 2,
   "metadata": {},
   "outputs": [
    {
     "name": "stdout",
     "output_type": "stream",
     "text": [
      "[0, 1, 4, 9]\n"
     ]
    }
   ],
   "source": [
    "# ray remote function\n",
    "@ray.remote\n",
    "def f(x):\n",
    "    time.sleep( 2 )\n",
    "    return x * x\n",
    "\n",
    "# Start 4 tasks in parallel.\n",
    "futures = [f.remote(i) for i in range(4)]\n",
    "\n",
    "# Wait for the tasks to complete and retrieve the results.\n",
    "# With at least 4 cores, this will take 1 second.\n",
    "print( ray.get(futures) )"
   ]
  },
  {
   "cell_type": "code",
   "execution_count": 3,
   "metadata": {},
   "outputs": [
    {
     "name": "stdout",
     "output_type": "stream",
     "text": [
      "[3.00350639 8.26920876 5.38262414 ... 7.59732007 9.32506548 6.96210829]\n"
     ]
    }
   ],
   "source": [
    "import numpy as np\n",
    "\n",
    "# 메모리 공유  \n",
    "arr = np.random.random(1000000)\n",
    "arr = ray.put(arr)\n",
    " \n",
    "@ray.remote\n",
    "def mul(x):\n",
    "   return x * 10\n",
    " \n",
    "result = ray.get(mul.remote(arr))\n",
    "\n",
    "print( result )"
   ]
  }
 ],
 "metadata": {
  "interpreter": {
   "hash": "916dbcbb3f70747c44a77c7bcd40155683ae19c65e1c03b4aa3499c5328201f1"
  },
  "kernelspec": {
   "display_name": "Python 3.9.7 64-bit",
   "language": "python",
   "name": "python3"
  },
  "language_info": {
   "codemirror_mode": {
    "name": "ipython",
    "version": 3
   },
   "file_extension": ".py",
   "mimetype": "text/x-python",
   "name": "python",
   "nbconvert_exporter": "python",
   "pygments_lexer": "ipython3",
   "version": "3.9.7"
  },
  "orig_nbformat": 4
 },
 "nbformat": 4,
 "nbformat_minor": 2
}
