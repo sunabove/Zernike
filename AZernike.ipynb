{
 "cells": [
  {
   "cell_type": "code",
   "execution_count": 1,
   "metadata": {},
   "outputs": [
    {
     "name": "stdout",
     "output_type": "stream",
     "text": [
      "Defaulting to user installation because normal site-packages is not writeable\n",
      "Requirement already satisfied: tqdm in c:\\users\\sunabove\\appdata\\roaming\\python\\python39\\site-packages (4.62.3)\n",
      "Requirement already satisfied: colorama in c:\\program files\\python39\\lib\\site-packages (from tqdm) (0.4.4)\n"
     ]
    }
   ],
   "source": [
    "!pip install tqdm"
   ]
  },
  {
   "cell_type": "code",
   "execution_count": 1,
   "metadata": {},
   "outputs": [
    {
     "name": "stdout",
     "output_type": "stream",
     "text": [
      "Hello... Good morning!\n",
      "Importing python packages was done.\n",
      "Zernike functions are defined.\n",
      "Current Time = 12:39:52\n",
      "Wall time: 1.25 s\n"
     ]
    }
   ],
   "source": [
    "%%time\n",
    "from IPython.display import clear_output\n",
    "clear_output()\n",
    "\n",
    "from AZernike import *"
   ]
  },
  {
   "cell_type": "code",
   "execution_count": 2,
   "metadata": {},
   "outputs": [
    {
     "ename": "NameError",
     "evalue": "name 'clear_output' is not defined",
     "output_type": "error",
     "traceback": [
      "\u001b[1;31m---------------------------------------------------------------------------\u001b[0m",
      "\u001b[1;31mNameError\u001b[0m                                 Traceback (most recent call last)",
      "\u001b[1;32m<timed exec>\u001b[0m in \u001b[0;36m<module>\u001b[1;34m\u001b[0m\n",
      "\u001b[1;31mNameError\u001b[0m: name 'clear_output' is not defined"
     ]
    }
   ],
   "source": [
    "%%time\n",
    "clear_output()\n",
    "\n",
    "print( \"Plots of Radial Poolynomial\" )\n",
    "\n",
    "debug = 0\n",
    "\n",
    "datas = []\n",
    "datas.append( { \"order\" : (0, 0), \"coeffs\" : [1] })\n",
    "datas.append( { \"order\" : (1, 1), \"coeffs\" : [1] })\n",
    "datas.append( { \"order\" : (2, 0), \"coeffs\" : [2, -1] })\n",
    "datas.append( { \"order\" : (2, 2), \"coeffs\" : [1] })\n",
    "\n",
    "datas.append( { \"order\" : (3, 1), \"coeffs\" : [3, -2] })\n",
    "datas.append( { \"order\" : (3, 3), \"coeffs\" : [1] })\n",
    "\n",
    "datas.append( { \"order\" : (4, 0), \"coeffs\" : [6, -6, 1] })\n",
    "datas.append( { \"order\" : (4, 2), \"coeffs\" : [4, -3] })\n",
    "datas.append( { \"order\" : (4, 4), \"coeffs\" : [1] })\n",
    "\n",
    "datas.append( { \"order\" : (5, 1), \"coeffs\" : [10, -12, 3] })\n",
    "datas.append( { \"order\" : (5, 3), \"coeffs\" : [5, -4] })\n",
    "datas.append( { \"order\" : (5, 5), \"coeffs\" : [1] })\n",
    "\n",
    "datas.append( { \"order\" : (6, 0), \"coeffs\" : [20, -30, 12, -1] })\n",
    "datas.append( { \"order\" : (6, 2), \"coeffs\" : [15, -20, 6] })\n",
    "datas.append( { \"order\" : (6, 4), \"coeffs\" : [6, -5] })\n",
    "#datas.append( { \"order\" : (6, 6), \"coeffs\" : [1] })\n",
    "\n",
    "#plt.style.use('seaborn-whitegrid')\n",
    "plt.rcParams[\"font.family\"] = \"Times New Roman\"\n",
    "plt.rcParams[\"font.size\"] = \"14\"\n",
    "row_cnt = 3; col_cnt = 2\n",
    "fig, charts = plt.subplots( row_cnt, col_cnt, figsize=( 8.05*col_cnt, 5*row_cnt) )\n",
    "charts = charts.flatten() if row_cnt*col_cnt > 1 else [ charts ]\n",
    "\n",
    "step = 1/30\n",
    "rho = np.arange( 0, 1 + step, step )\n",
    "rho = rho[ np.where( rho <= 1 ) ]\n",
    "\n",
    "markers = [ \".\", \"o\", \"s\", \"p\", \"*\", \"D\", \"d\" ]\n",
    "\n",
    "hash = {}\n",
    "\n",
    "for data in datas : \n",
    "    order  = data[ \"order\" ]\n",
    "    coeffs = data[ \"coeffs\" ]\n",
    "    p = order[0] ; q = order[1]\n",
    "    r_pl_numeric = Rpq( p, q, rho, hash=hash, debug=debug )\n",
    "    \n",
    "    r_pl_analytic = np.zeros_like( rho )\n",
    "    for idx, coeff in enumerate( coeffs ) : \n",
    "        r_pl_analytic += coeff*np.power( rho, p - 2*idx )\n",
    "    pass \n",
    "\n",
    "    chart = charts[q]\n",
    "    chart.plot( rho, r_pl_analytic, linestyle=\"solid\" )\n",
    "    chart.plot( rho, r_pl_numeric, markers[p], label=f\"R{p}{q}\" )\n",
    "    chart.set_xlim(  0, 1 )\n",
    "    chart.set_ylim( -1, 1 )\n",
    "    chart.set_xlabel( \"ρ\" )\n",
    "    chart.set_ylabel( f\"Rp{q}(ρ)\" )\n",
    "    chart.set_title( f\"\\nq = {q}\\n\" )\n",
    "    chart.legend()\n",
    "    #chart.legend(loc='upper left', bbox_to_anchor=(0.5, 0.1), fancybox=True, shadow=0, ncol=len(datas)//2)\n",
    "pass\n",
    "\n",
    "#chart.set_title( f\"\\nRadial Polynomials\\n\" )\n",
    "#fig.legend(loc='upper center', bbox_to_anchor=(0.5, 0.0), fancybox=True, shadow=0, ncol=len(datas)//2)\n",
    "plt.tight_layout(); plt.show()\n",
    "print( f\"rho = {rho}\" )\n",
    "\n",
    "print( \"Done.\")"
   ]
  },
  {
   "cell_type": "code",
   "execution_count": 6,
   "metadata": {},
   "outputs": [
    {
     "name": "stdout",
     "output_type": "stream",
     "text": [
      "Radial polynomail orthogonality validation\n"
     ]
    },
    {
     "data": {
      "application/vnd.jupyter.widget-view+json": {
       "model_id": "c4474228d63e490e822fb4c351fc5ea3",
       "version_major": 2,
       "version_minor": 0
      },
      "text/plain": [
       "Resolution:   0%|          | 0/5 [00:00<?, ?it/s]"
      ]
     },
     "metadata": {},
     "output_type": "display_data"
    },
    {
     "name": "stdout",
     "output_type": "stream",
     "text": [
      "\n",
      "************************************************************\n",
      "Resolution = 2, T = 5\n",
      "Error avg. = 0.04221171567603516\n",
      "Fail count = 47, Good count = 0\n",
      "\n",
      "************************************************************\n",
      "Resolution = 3, T = 5\n",
      "Error avg. = 0.004117865214113674\n",
      "Fail count = 47, Good count = 0\n",
      "\n",
      "************************************************************\n",
      "Resolution = 4, T = 5\n",
      "Error avg. = 0.00041075312056433697\n",
      "Fail count = 0, Good count = 47\n",
      "\n",
      "************************************************************\n",
      "Resolution = 5, T = 5\n",
      "Error avg. = 4.106497801488134e-05\n",
      "Fail count = 0, Good count = 47\n",
      "\n",
      "************************************************************\n",
      "Resolution = 6, T = 5\n",
      "Error avg. = 4.106394460603909e-06\n",
      "Fail count = 0, Good count = 47\n",
      "Plotting .... \n"
     ]
    },
    {
     "data": {
      "image/png": "[encoded data removed]",
      "text/plain": [
       "<Figure size 579.6x360 with 1 Axes>"
      ]
     },
     "metadata": {
      "needs_background": "light"
     },
     "output_type": "display_data"
    },
    {
     "name": "stdout",
     "output_type": "stream",
     "text": [
      "\n",
      "Done\n",
      "Wall time: 6.26 s\n"
     ]
    }
   ],
   "source": [
    "%%time\n",
    "clear_output()\n",
    "\n",
    "print( \"Radial polynomail orthogonality validation\" )\n",
    "\n",
    "debug = 1\n",
    "\n",
    "error_avgs = []\n",
    "\n",
    "resolutions = [ x for x in range( 2, 6 + 1 ) ]\n",
    "\n",
    "for resolution in tqdm( resolutions, desc=\"Resolution\" ):\n",
    "    T = 5 #10 # 20 \n",
    "    print( line2 )    \n",
    "    print( f\"Resolution = {resolution}, T = {T}\" )\n",
    "    \n",
    "    dr = 1/(10**resolution)\n",
    "\n",
    "    rho = np.arange( 0, 1 + dr, dr ) \n",
    "    rho = rho[ np.where( rho <= 1 ) ]\n",
    "\n",
    "    # debug and print( f\"rho = {rho}\" )\n",
    "\n",
    "    good_cnt = 0 \n",
    "    fail_cnt = 0 \n",
    "\n",
    "    error_sum = 0\n",
    "\n",
    "    for p in range( 0, T + 1 ) :\n",
    "        for q in range( 0, T + 1 ) :\n",
    "            for l in range( -q, q + 1 ) :\n",
    "                if abs(l) > p or abs(l) > q:\n",
    "                    continue ;\n",
    "                elif   ( p - abs(l) )%2 == 1 :\n",
    "                    continue\n",
    "                elif ( q - abs(l) )%2 == 1 :\n",
    "                    continue\n",
    "                pass\n",
    "            \n",
    "                r_pl = Rpq( p, l, rho, debug=0 )\n",
    "                r_ql = Rpq( q, l, rho, debug=0 )\n",
    "                \n",
    "                sum = 0 \n",
    "                sum = np.sum(r_pl*r_ql*rho*dr)*2*(p + 1)\n",
    "                \n",
    "                expect = [0, 1][ p == q ]\n",
    "                error = abs(expect -sum)\n",
    "                error_sum += error\n",
    "                success = error < 1/1_000 \n",
    "                success_t = 'Good' if success else 'Fail'\n",
    "                \n",
    "                good_cnt += success\n",
    "                fail_cnt += (not success)\n",
    "                \n",
    "                #print( f\"[{p:02d}][{q:02d}] {success_t} : Rpl({p}, {l:2d})*Rql({q}, {l:2d}) = {sum}, exptect = {expect}\", flush=\"True\" )\n",
    "            pass\n",
    "        pass\n",
    "    pass\n",
    "\n",
    "    error_avg = error_sum/(good_cnt + fail_cnt)\n",
    "    error_avgs.append( error_avg )\n",
    "\n",
    "    print( f\"Error avg. = {error_avg}\" )\n",
    "    print( f\"Fail count = {fail_cnt}, Good count = {good_cnt}\", flush=\"True\" )\n",
    "pass\n",
    "\n",
    "print( \"Plotting .... \", flush=\"True\" )\n",
    "\n",
    "plt.rcParams[\"font.family\"] = \"Times New Roman\"\n",
    "plt.rcParams[\"font.size\"] = \"14\"\n",
    "\n",
    "row_cnt = 1; col_cnt = 1\n",
    "fig, charts = plt.subplots( row_cnt, col_cnt, figsize=( 8.05*col_cnt, 5*row_cnt) )\n",
    "charts = charts.flatten() if row_cnt*col_cnt > 1 else [charts]\n",
    "chart_idx = 0 \n",
    "chart = charts[ chart_idx ]\n",
    "\n",
    "resolutions = np.array( resolutions, np.uint8 )\n",
    "error_avgs = np.log10( np.array( error_avgs ) )\n",
    "\n",
    "chart.plot( resolutions, error_avgs, \"D\" )\n",
    "chart.set_title( \"\\nRadial Polynomail Orthogonality Error\\n\" )\n",
    "chart.set_xlabel( \"Radial grid count\" )\n",
    "chart.set_ylabel( \"log10(error)\" )\n",
    "chart.set_xticks( resolutions ) \n",
    "\n",
    "plt.tight_layout(); plt.show()\n",
    "\n",
    "print( \"\\nDone\")"
   ]
  },
  {
   "cell_type": "code",
   "execution_count": 6,
   "metadata": {},
   "outputs": [
    {
     "name": "stderr",
     "output_type": "stream",
     "text": [
      "UsageError: Line magic function `%%time` not found.\n"
     ]
    }
   ],
   "source": [
    "# 저니크 모멘트\n",
    "%%time\n",
    "clear_output()\n",
    "\n",
    "img = cv.imread( 'image/lenna.png', 0 )\n",
    "\n",
    "shape = img.shape\n",
    "width = 100\n",
    "if shape[0] > shape[1] :\n",
    "    img = cv.resize( img, (width, shape[0]*width//shape[1]) )\n",
    "else :\n",
    "    img = cv.resize( img, (shape[1]*width//shape[0], width) )\n",
    "pass\n",
    "\n",
    "img = np.array( [ [1, 0, 1, 1], [0, 1, 0, 1 ], [0, 1, 0, 1], [1, 1, 1, 1] ], np.uint8 )\n",
    "\n",
    "shape = img.shape\n",
    "print( \"img shape= \", shape )\n",
    "\n",
    "img_org = img \n",
    "\n",
    "k = 3\n",
    "img = cv.resize( img_org, (img_org.shape[1]*k, img_org.shape[0]*k), interpolation=cv.INTER_AREA )\n",
    "\n",
    "h = img.shape[0]\n",
    "w = img.shape[1]\n",
    "mwh = max( h, w )\n",
    "r = math.sqrt( 2*mwh*mwh )\n",
    "print( f\"K = {k}, H = {h}, W = {w}, r = {r}\" )\n",
    "x, y = np.where( img > 0 )\n",
    "\n",
    "np.set_printoptions(suppress=1)\n",
    "\n",
    "if 1 : \n",
    "    print( \"x = \", x )\n",
    "    print( \"y = \", y )\n",
    "pass\n",
    "\n",
    "x = x/r - 1/math.sqrt(2)\n",
    "y = y/r - 1/math.sqrt(2)\n",
    "\n",
    "if 1 : \n",
    "    print( \"x = \", x )\n",
    "    print( \"y = \", y )\n",
    "pass\n",
    "\n",
    "T = 3\n",
    "print( f\"T = {T}\" )\n",
    "for p in range( T, -1, -1 ) : \n",
    "    for q in range( -p, p + 1 ) :\n",
    "        if (p - abs(q))%2 == 0 : #짝수일 경우에만\n",
    "            v_pq = Vpq( 6, 2, x, y )\n",
    "            test = np.sum( v_pq*np.conjugate(v_pq) )\n",
    "            #print( f\"V_pq({p}, {q}) = \", v_pq )\n",
    "            print( f\"V^_pq*V_pq({p}, {q}) = \", test )\n",
    "        pass\n",
    "    pass\n",
    "pass\n",
    "\n",
    "# 서브 챠트 생성 \n",
    "idx = 0 \n",
    "fig, charts = plt.subplots( 1, 2, figsize=(10, 10) )\n",
    "charts = charts.flatten()\n",
    "chart = charts[ idx ] ; idx += 1\n",
    "chart.set_title( \"\\nOriginal\\n\" )\n",
    "chart.imshow( img_org, cmap='gray' )\n",
    "\n",
    "chart = charts[ idx ] ; idx += 1\n",
    "chart.set_title( f\"\\nScale({k})\\n\" )\n",
    "chart.imshow( img, cmap='gray' )\n",
    "\n",
    "print_profile()\n",
    "\n",
    "plt.tight_layout(); plt.show()"
   ]
  }
 ],
 "metadata": {
  "interpreter": {
   "hash": "ac59ebe37160ed0dfa835113d9b8498d9f09ceb179beaac4002f036b9467c963"
  },
  "kernelspec": {
   "display_name": "Python 3.9.7 64-bit",
   "language": "python",
   "name": "python3"
  },
  "language_info": {
   "codemirror_mode": {
    "name": "ipython",
    "version": 3
   },
   "file_extension": ".py",
   "mimetype": "text/x-python",
   "name": "python",
   "nbconvert_exporter": "python",
   "pygments_lexer": "ipython3",
   "version": "3.9.7"
  },
  "orig_nbformat": 4
 },
 "nbformat": 4,
 "nbformat_minor": 2
}
