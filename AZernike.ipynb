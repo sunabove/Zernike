{
 "cells": [
  {
   "cell_type": "code",
   "execution_count": 22,
   "metadata": {},
   "outputs": [],
   "source": [
    "import numpy as np\n",
    "\n",
    "def Rpq(p, q, ρ) :\n",
    "    return ρ + 1"
   ]
  },
  {
   "cell_type": "code",
   "execution_count": 41,
   "metadata": {},
   "outputs": [
    {
     "name": "stdout",
     "output_type": "stream",
     "text": [
      "img shape=  (3, 3)\n",
      "K = 3, H = 9, W = 9, R = 9\n",
      "x =  [0 0 0 0 0 0 1 1 1 1 1 1 2 2 2 2 2 2 3 3 3 4 4 4 5 5 5 6 6 6 6 6 6 7 7 7 7\n",
      " 7 7 8 8 8 8 8 8]\n",
      "y =  [3 4 5 6 7 8 3 4 5 6 7 8 3 4 5 6 7 8 3 4 5 3 4 5 3 4 5 3 4 5 6 7 8 3 4 5 6\n",
      " 7 8 3 4 5 6 7 8]\n",
      "Rpq =  4\n"
     ]
    },
    {
     "data": {
      "image/png": "[encoded data removed]",
      "text/plain": [
       "<Figure size 720x720 with 2 Axes>"
      ]
     },
     "metadata": {
      "needs_background": "light"
     },
     "output_type": "display_data"
    }
   ],
   "source": [
    "import numpy as np, cv2 as cv, math\n",
    "from matplotlib import pyplot as plt\n",
    "\n",
    "img = cv.imread( 'image/lenna.png', 0 )\n",
    "\n",
    "shape = img.shape\n",
    "width = 100\n",
    "if shape[0] > shape[1] :\n",
    "    img = cv.resize( img, (width, shape[0]*width//shape[1]) )\n",
    "else :\n",
    "    img = cv.resize( img, (shape[1]*width//shape[0], width) )\n",
    "pass\n",
    "\n",
    "img = np.array( [ [0, 1, 1], [0, 1, 0 ], [0, 1, 1] ], np.uint8 )\n",
    "\n",
    "shape = img.shape\n",
    "print( \"img shape= \", shape )\n",
    "\n",
    "img_org = img \n",
    "\n",
    "K = 3\n",
    "img = cv.resize( img, (img.shape[1]*K, img.shape[0]*K), interpolation=cv.INTER_AREA )\n",
    "\n",
    "H = img.shape[0]\n",
    "W = img.shape[1]\n",
    "R = max(H, W) \n",
    "print( f\"K = {K}, H = {H}, W = {W}, R = {R}\" )\n",
    "x, y = np.where( img > 0 )\n",
    "\n",
    "print( \"x = \", x )\n",
    "print( \"y = \", y )\n",
    "\n",
    "print( \"Rpq = \", Rpq( 1, 2, 3 ))\n",
    "\n",
    "# 서브 챠트 생성 \n",
    "idx = 0 \n",
    "fig, charts = plt.subplots( 1, 2, figsize=(10, 10) )\n",
    "charts = charts.flatten()\n",
    "chart = charts[ idx ] ; idx += 1\n",
    "chart.set_title( \"\\nOriginal\\n\" )\n",
    "chart.imshow( img_org, cmap='gray' )\n",
    "\n",
    "chart = charts[ idx ] ; idx += 1\n",
    "chart.set_title( f\"\\nOriginal Scale({K})\\n\" )\n",
    "chart.imshow( img, cmap='gray' )\n",
    "\n",
    "plt.tight_layout(); plt.show()"
   ]
  }
 ],
 "metadata": {
  "interpreter": {
   "hash": "ac59ebe37160ed0dfa835113d9b8498d9f09ceb179beaac4002f036b9467c963"
  },
  "kernelspec": {
   "display_name": "Python 3.9.7 64-bit",
   "language": "python",
   "name": "python3"
  },
  "language_info": {
   "codemirror_mode": {
    "name": "ipython",
    "version": 3
   },
   "file_extension": ".py",
   "mimetype": "text/x-python",
   "name": "python",
   "nbconvert_exporter": "python",
   "pygments_lexer": "ipython3",
   "version": "3.9.7"
  },
  "orig_nbformat": 4
 },
 "nbformat": 4,
 "nbformat_minor": 2
}
