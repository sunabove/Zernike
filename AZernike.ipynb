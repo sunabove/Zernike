{
 "cells": [
  {
   "cell_type": "code",
   "execution_count": 44,
   "metadata": {},
   "outputs": [
    {
     "name": "stdout",
     "output_type": "stream",
     "text": [
      "Hello... Good morning!\n",
      "Importing was done.\n"
     ]
    }
   ],
   "source": [
    "import numpy as np, cv2 as cv, math\n",
    "from scipy.special import factorial\n",
    "from matplotlib import pyplot as plt\n",
    "from Profiler import *\n",
    "\n",
    "line = \"*\"*60\n",
    "line2 = \"\\n\" + \"*\"*60 + \"\\n\"\n",
    "\n",
    "print( f\"Hello... Good morning!\" )\n",
    "print( f\"Importing was done.\" )"
   ]
  },
  {
   "cell_type": "code",
   "execution_count": 86,
   "metadata": {},
   "outputs": [
    {
     "name": "stdout",
     "output_type": "stream",
     "text": [
      "Zernike functions are defined.\n",
      "Current Time = 18:39:06\n"
     ]
    }
   ],
   "source": [
    "@profile\n",
    "def Rpq(p, q, rho, debug = 0 ) :\n",
    "    if abs(q) > p : \n",
    "        print( f\"Invalid argument, abs(q = {q}) < p(={p}) is not satisfied\")\n",
    "        return \n",
    "    pass\n",
    "\n",
    "    if int(p - abs(q))%2 == 1 : \n",
    "        print( f\"Invalid argument, p({p}) - q({q}) should be an even number.\")\n",
    "        return \n",
    "    pass \n",
    "\n",
    "    q = abs( q )\n",
    "\n",
    "    t = max( (p - q)/2, 0 )\n",
    "    s = np.arange( 0, t + 1 )\n",
    "    \n",
    "    R_ps = np.power( -1, s )*factorial(p - s)/factorial(s)/factorial( (p + q)/2 - s)/factorial( (p - q)/2 - s )\n",
    "    rho_power = []\n",
    "    \n",
    "    for p_2s in p - 2*s :\n",
    "        rho_power.append( np.power(rho, p_2s ) )\n",
    "    pass\n",
    "\n",
    "    rho_power = np.array( rho_power )\n",
    "    \n",
    "    R_pq_rho = np.inner( rho_power.T, R_ps )\n",
    "    \n",
    "    #R_sum = np.sum( R_pq_rho )\n",
    "        \n",
    "    if debug : \n",
    "        print( line2 )\n",
    "        print( f\"p = {p}, q={q}, (p - |q|)/2 = {t}\" )\n",
    "        print( \"s = \", s )\n",
    "        print( \"R_ps = \", R_ps )\n",
    "        print( \"rho_power shape = \", rho_power.shape )\n",
    "        print( \"rho_power.T shape = \", rho_power.T.shape )\n",
    "        print( \"rho_power = \", rho_power )\n",
    "        print( \"rho_power.T = \", rho_power.T )\n",
    "        print( \"R_pq_rho = \", R_pq_rho )    \n",
    "        #print( \"R_sum = \", R_sum )\n",
    "        print( line2 )\n",
    "    pass\n",
    "    \n",
    "    return R_pq_rho\n",
    "pass\n",
    "\n",
    "@profile\n",
    "def Vpq( p, q, x, y, debug = 0 ) :\n",
    "    rho = np.sqrt( x**2 + y**2 )\n",
    "    \n",
    "    R_pq = Rpq( p, q, rho, debug = 0 )\n",
    "    \n",
    "    V_pq = R_pq \n",
    "    \n",
    "    if q : \n",
    "        V_pq = R_pq*( x + y*1j )\n",
    "        #V_pq = R_pq*np.exp( 1j*q*np.arctan2( y, x ) );\n",
    "    pass    \n",
    "    \n",
    "    #print( \"rho = \", rho )\n",
    "    if debug : \n",
    "        print( f\"V_pq({p}, {q}) = \", V_pq )\n",
    "    pass\n",
    "\n",
    "    return V_pq\n",
    "pass\n",
    "\n",
    "print( \"Zernike functions are defined.\")\n",
    "\n",
    "from datetime import datetime\n",
    "now = datetime.now()\n",
    "\n",
    "current_time = now.strftime(\"%H:%M:%S\")\n",
    "print(\"Current Time =\", current_time)"
   ]
  },
  {
   "cell_type": "code",
   "execution_count": 92,
   "metadata": {},
   "outputs": [
    {
     "name": "stdout",
     "output_type": "stream",
     "text": [
      "Plots of Radial Poolynomial\n",
      "\n",
      "************************************************************\n",
      "\n",
      "p = 3, q=1, (p - |q|)/2 = 1.0\n",
      "s =  [0. 1.]\n",
      "R_ps =  [ 3. -2.]\n",
      "rho_power shape =  (2, 1001)\n",
      "rho_power.T shape =  (1001, 2)\n",
      "rho_power =  [[0.00000000e+00 1.00000000e-09 8.00000000e-09 ... 9.94011992e-01\n",
      "  9.97002999e-01 1.00000000e+00]\n",
      " [0.00000000e+00 1.00000000e-03 2.00000000e-03 ... 9.98000000e-01\n",
      "  9.99000000e-01 1.00000000e+00]]\n",
      "rho_power.T =  [[0.00000000e+00 0.00000000e+00]\n",
      " [1.00000000e-09 1.00000000e-03]\n",
      " [8.00000000e-09 2.00000000e-03]\n",
      " ...\n",
      " [9.94011992e-01 9.98000000e-01]\n",
      " [9.97002999e-01 9.99000000e-01]\n",
      " [1.00000000e+00 1.00000000e+00]]\n",
      "R_pq_rho =  [ 0.         -0.002      -0.00399998 ...  0.98603598  0.993009\n",
      "  1.        ]\n",
      "\n",
      "************************************************************\n",
      "\n"
     ]
    },
    {
     "data": {
      "image/png": "[encoded data removed]",
      "text/plain": [
       "<Figure size 432x288 with 1 Axes>"
      ]
     },
     "metadata": {
      "needs_background": "light"
     },
     "output_type": "display_data"
    },
    {
     "name": "stdout",
     "output_type": "stream",
     "text": [
      "rho = [0.    0.001 0.002 ... 0.998 0.999 1.   ]\n",
      "Done.\n"
     ]
    }
   ],
   "source": [
    "print( \"Plots of Radial Poolynomial\" )\n",
    "\n",
    "debug = 1\n",
    "step = 1/1_000\n",
    "\n",
    "rho = np.arange( 0, 1 + step, step ) \n",
    "r_pl = Rpq( 3, 1, rho, debug )\n",
    "\n",
    "plt.plot( rho, r_pl )\n",
    "plt.show()\n",
    "print( f\"rho = {rho}\" )\n",
    "\n",
    "print( \"Done.\")"
   ]
  },
  {
   "cell_type": "code",
   "execution_count": 75,
   "metadata": {},
   "outputs": [
    {
     "name": "stdout",
     "output_type": "stream",
     "text": [
      "Radial polynomail orthogonality validation\n",
      "rho = [0.    0.001 0.002 ... 0.998 0.999 1.   ]\n",
      "Rpl(0,  0)*Rql(0,  0) = 0.5010005000000001\n",
      "Rpl(0,  0)*Rql(2,  0) = 0.5010005000000001\n",
      "Rpl(0,  0)*Rql(4,  0) = 0.5010005000000001\n",
      "Rpl(1, -1)*Rql(1, -1) = 1.0020010000000001\n",
      "Rpl(1,  1)*Rql(1,  1) = 1.0020010000000001\n",
      "Rpl(1, -1)*Rql(3, -1) = 1.0020010000000001\n",
      "Rpl(1,  1)*Rql(3,  1) = 1.0020010000000001\n",
      "Rpl(1, -1)*Rql(5, -1) = 1.0020010000000001\n",
      "Rpl(1,  1)*Rql(5,  1) = 1.0020010000000001\n",
      "Rpl(2,  0)*Rql(0,  0) = 1.5030015000000003\n",
      "Rpl(2, -2)*Rql(2, -2) = 1.5030015000000003\n",
      "Rpl(2,  0)*Rql(2,  0) = 1.5030015000000003\n",
      "Rpl(2,  2)*Rql(2,  2) = 1.5030015000000003\n",
      "Rpl(2, -2)*Rql(4, -2) = 1.5030015000000003\n",
      "Rpl(2,  0)*Rql(4,  0) = 1.5030015000000003\n",
      "Rpl(2,  2)*Rql(4,  2) = 1.5030015000000003\n",
      "Rpl(3, -1)*Rql(1, -1) = 2.0040020000000003\n",
      "Rpl(3,  1)*Rql(1,  1) = 2.0040020000000003\n",
      "Rpl(3, -3)*Rql(3, -3) = 2.0040020000000003\n",
      "Rpl(3, -1)*Rql(3, -1) = 2.0040020000000003\n",
      "Rpl(3,  1)*Rql(3,  1) = 2.0040020000000003\n",
      "Rpl(3,  3)*Rql(3,  3) = 2.0040020000000003\n",
      "Rpl(3, -3)*Rql(5, -3) = 2.0040020000000003\n",
      "Rpl(3, -1)*Rql(5, -1) = 2.0040020000000003\n",
      "Rpl(3,  1)*Rql(5,  1) = 2.0040020000000003\n",
      "Rpl(3,  3)*Rql(5,  3) = 2.0040020000000003\n",
      "Rpl(4,  0)*Rql(0,  0) = 2.5050025000000002\n",
      "Rpl(4, -2)*Rql(2, -2) = 2.5050025000000002\n",
      "Rpl(4,  0)*Rql(2,  0) = 2.5050025000000002\n",
      "Rpl(4,  2)*Rql(2,  2) = 2.5050025000000002\n",
      "Rpl(4, -4)*Rql(4, -4) = 2.5050025000000002\n",
      "Rpl(4, -2)*Rql(4, -2) = 2.5050025000000002\n",
      "Rpl(4,  0)*Rql(4,  0) = 2.5050025000000002\n",
      "Rpl(4,  2)*Rql(4,  2) = 2.5050025000000002\n",
      "Rpl(4,  4)*Rql(4,  4) = 2.5050025000000002\n",
      "Rpl(5, -1)*Rql(1, -1) = 3.0060030000000006\n",
      "Rpl(5,  1)*Rql(1,  1) = 3.0060030000000006\n",
      "Rpl(5, -3)*Rql(3, -3) = 3.0060030000000006\n",
      "Rpl(5, -1)*Rql(3, -1) = 3.0060030000000006\n",
      "Rpl(5,  1)*Rql(3,  1) = 3.0060030000000006\n",
      "Rpl(5,  3)*Rql(3,  3) = 3.0060030000000006\n",
      "Rpl(5, -5)*Rql(5, -5) = 3.0060030000000006\n",
      "Rpl(5, -3)*Rql(5, -3) = 3.0060030000000006\n",
      "Rpl(5, -1)*Rql(5, -1) = 3.0060030000000006\n",
      "Rpl(5,  1)*Rql(5,  1) = 3.0060030000000006\n",
      "Rpl(5,  3)*Rql(5,  3) = 3.0060030000000006\n",
      "Rpl(5,  5)*Rql(5,  5) = 3.0060030000000006\n",
      "Done\n"
     ]
    }
   ],
   "source": [
    "print( \"Radial polynomail orthogonality validation\" )\n",
    "\n",
    "step = 1/1_000\n",
    "\n",
    "rho = np.arange( 0, 1 + step, step ) \n",
    "print( f\"rho = {rho}\" )\n",
    "\n",
    "debug = 0\n",
    "T = 5 \n",
    "for p in range( 0, T + 1 ) :\n",
    "    for q in range( 0, T + 1 ) :\n",
    "        for l in range( -q, q + 1 ) :\n",
    "            if abs(l) > p or abs(l) > q:\n",
    "                continue ;\n",
    "            elif   ( p - abs(l) )%2 == 1 :\n",
    "                continue\n",
    "            elif ( q - abs(l) )%2 == 1 :\n",
    "                continue\n",
    "            pass\n",
    "        \n",
    "            r_pl = Rpq( p, l, rho, debug )\n",
    "            r_ql = Rpq( q, l, rho, debug )\n",
    "            \n",
    "            sum = 0 \n",
    "            sum = np.sum(r_pl*r_ql*rho*step)*2*(p + 1)\n",
    "            \n",
    "            print( f\"Rpl({p}, {l:2d})*Rql({q}, {l:2d}) = {sum}\" )\n",
    "        pass\n",
    "    pass\n",
    "pass\n",
    "\n",
    "print( \"Done\")"
   ]
  },
  {
   "cell_type": "code",
   "execution_count": 72,
   "metadata": {},
   "outputs": [
    {
     "name": "stderr",
     "output_type": "stream",
     "text": [
      "2021-11-28:18:27:09, INFO     [Profiler.py:0085] *** The function[ Rpq ] Average: 0.001 sec(s), Max: 0.012 sec(s), Call : 1111 times. \n",
      "2021-11-28:18:27:09, INFO     [Profiler.py:0085] *** The function[ Vpq ] Average: 0.000 sec(s), Max: 0.002 sec(s), Call : 30 times. \n"
     ]
    },
    {
     "name": "stdout",
     "output_type": "stream",
     "text": [
      "img shape=  (3, 3)\n",
      "K = 3, H = 8, W = 8, r = 5.656854249492381\n",
      "x =  [0 0 0 0 0 0 1 1 1 1 1 1 2 2 2 2 2 2 3 3 3 4 4 4 5 5 5 6 6 6 6 6 6 7 7 7 7\n",
      " 7 7 8 8 8 8 8 8]\n",
      "y =  [0 1 2 6 7 8 0 1 2 6 7 8 0 1 2 6 7 8 3 4 5 3 4 5 3 4 5 3 4 5 6 7 8 3 4 5 6\n",
      " 7 8 3 4 5 6 7 8]\n",
      "T = 3\n",
      "V^_pq*V_pq(3, -3) =  (12.305664062499996+0j)\n",
      "V^_pq*V_pq(3, -1) =  (12.305664062499996+0j)\n",
      "V^_pq*V_pq(3, 1) =  (12.305664062499996+0j)\n",
      "V^_pq*V_pq(3, 3) =  (12.305664062499996+0j)\n",
      "V^_pq*V_pq(2, -2) =  (12.305664062499996+0j)\n",
      "V^_pq*V_pq(2, 0) =  (12.305664062499996+0j)\n",
      "V^_pq*V_pq(2, 2) =  (12.305664062499996+0j)\n",
      "V^_pq*V_pq(1, -1) =  (12.305664062499996+0j)\n",
      "V^_pq*V_pq(1, 1) =  (12.305664062499996+0j)\n",
      "V^_pq*V_pq(0, 0) =  (12.305664062499996+0j)\n"
     ]
    },
    {
     "data": {
      "image/png": "[encoded data removed]",
      "text/plain": [
       "<Figure size 720x720 with 2 Axes>"
      ]
     },
     "metadata": {
      "needs_background": "light"
     },
     "output_type": "display_data"
    }
   ],
   "source": [
    "\n",
    "\n",
    "img = cv.imread( 'image/lenna.png', 0 )\n",
    "\n",
    "shape = img.shape\n",
    "width = 100\n",
    "if shape[0] > shape[1] :\n",
    "    img = cv.resize( img, (width, shape[0]*width//shape[1]) )\n",
    "else :\n",
    "    img = cv.resize( img, (shape[1]*width//shape[0], width) )\n",
    "pass\n",
    "\n",
    "img = np.array( [ [1, 0, 1], [0, 1, 0 ], [0, 1, 1] ], np.uint8 )\n",
    "\n",
    "shape = img.shape\n",
    "print( \"img shape= \", shape )\n",
    "\n",
    "img_org = img \n",
    "\n",
    "k = 3\n",
    "img = cv.resize( img_org, (img_org.shape[1]*k, img_org.shape[0]*k), interpolation=cv.INTER_AREA )\n",
    "\n",
    "h = img.shape[0] - 1\n",
    "w = img.shape[1] - 1\n",
    "mwh = max( h/2, w/2 )\n",
    "r = math.sqrt( 2*mwh*mwh )\n",
    "print( f\"K = {k}, H = {h}, W = {w}, r = {r}\" )\n",
    "x, y = np.where( img > 0 )\n",
    "\n",
    "if 1 : \n",
    "    print( \"x = \", x[:] )\n",
    "    print( \"y = \", y[:] )\n",
    "pass\n",
    "\n",
    "x = (x - mwh)/r\n",
    "y = (y - mwh)/r\n",
    "\n",
    "if 0 : \n",
    "    print( \"x = \", x[:] )\n",
    "    print( \"y = \", y[:] )\n",
    "pass\n",
    "\n",
    "T = 3\n",
    "print( f\"T = {T}\" )\n",
    "for p in range( T, -1, -1 ) : \n",
    "    for q in range( -p, p + 1 ) :\n",
    "        if (p - abs(q))%2 == 0 : #짝수일 경우에만\n",
    "            v_pq = Vpq( 6, 2, x, y )\n",
    "            test = np.sum( v_pq*np.conjugate(v_pq) )\n",
    "            #print( f\"V_pq({p}, {q}) = \", v_pq )\n",
    "            print( f\"V^_pq*V_pq({p}, {q}) = \", test )\n",
    "        pass\n",
    "    pass\n",
    "pass\n",
    "\n",
    "# 서브 챠트 생성 \n",
    "idx = 0 \n",
    "fig, charts = plt.subplots( 1, 2, figsize=(10, 10) )\n",
    "charts = charts.flatten()\n",
    "chart = charts[ idx ] ; idx += 1\n",
    "chart.set_title( \"\\nOriginal\\n\" )\n",
    "chart.imshow( img_org, cmap='gray' )\n",
    "\n",
    "chart = charts[ idx ] ; idx += 1\n",
    "chart.set_title( f\"\\nScale({k})\\n\" )\n",
    "chart.imshow( img, cmap='gray' )\n",
    "\n",
    "print_profile()\n",
    "\n",
    "plt.tight_layout(); plt.show()"
   ]
  }
 ],
 "metadata": {
  "interpreter": {
   "hash": "ac59ebe37160ed0dfa835113d9b8498d9f09ceb179beaac4002f036b9467c963"
  },
  "kernelspec": {
   "display_name": "Python 3.9.7 64-bit",
   "language": "python",
   "name": "python3"
  },
  "language_info": {
   "codemirror_mode": {
    "name": "ipython",
    "version": 3
   },
   "file_extension": ".py",
   "mimetype": "text/x-python",
   "name": "python",
   "nbconvert_exporter": "python",
   "pygments_lexer": "ipython3",
   "version": "3.9.7"
  },
  "orig_nbformat": 4
 },
 "nbformat": 4,
 "nbformat_minor": 2
}
