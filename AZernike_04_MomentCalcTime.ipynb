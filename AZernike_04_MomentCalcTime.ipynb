{
 "cells": [
  {
   "cell_type": "code",
   "execution_count": 1,
   "metadata": {},
   "outputs": [
    {
     "name": "stdout",
     "output_type": "stream",
     "text": [
      "Hello... Good morning!\n",
      "Importing python packages was done.\n",
      "Zernike functions are defined.\n",
      "\n",
      "Current Time = 02:14:42\n",
      "\n",
      "device=GPU, Hash=0, K=(1)\n"
     ]
    },
    {
     "ename": "TypeError",
     "evalue": "rho_theta() got an unexpected keyword argument 'use_gpu'",
     "output_type": "error",
     "traceback": [
      "\u001b[0;31m---------------------------------------------------------------------------\u001b[0m",
      "\u001b[0;31mTypeError\u001b[0m                                 Traceback (most recent call last)",
      "Cell \u001b[0;32mIn[1], line 38\u001b[0m\n\u001b[1;32m     34\u001b[0m datas \u001b[38;5;241m=\u001b[39m { }\n\u001b[1;32m     36\u001b[0m debug \u001b[38;5;241m=\u001b[39m \u001b[38;5;241m0\u001b[39m\n\u001b[0;32m---> 38\u001b[0m \u001b[43mtest_zernike_moments\u001b[49m\u001b[43m(\u001b[49m\u001b[43m \u001b[49m\u001b[43mdatas\u001b[49m\u001b[43m,\u001b[49m\u001b[43m \u001b[49m\u001b[43muse_gpus\u001b[49m\u001b[43m,\u001b[49m\u001b[43m \u001b[49m\u001b[43muse_threads\u001b[49m\u001b[43m,\u001b[49m\u001b[43m \u001b[49m\u001b[43muse_hashs\u001b[49m\u001b[43m,\u001b[49m\u001b[43m \u001b[49m\u001b[43mKs\u001b[49m\u001b[43m,\u001b[49m\u001b[43m \u001b[49m\u001b[43mT\u001b[49m\u001b[43m,\u001b[49m\u001b[43m \u001b[49m\u001b[43mdebug\u001b[49m\u001b[38;5;241;43m=\u001b[39;49m\u001b[43mdebug\u001b[49m\u001b[43m \u001b[49m\u001b[43m)\u001b[49m \n\u001b[1;32m     40\u001b[0m plot_moment_calc_times( datas )\n\u001b[1;32m     42\u001b[0m \u001b[38;5;28mprint\u001b[39m( \u001b[38;5;124m\"\u001b[39m\u001b[38;5;124mDone.\u001b[39m\u001b[38;5;124m\"\u001b[39m )\n",
      "File \u001b[0;32m~/Zernike/AZernike.py:806\u001b[0m, in \u001b[0;36mtest_zernike_moments\u001b[0;34m(datas, use_gpus, use_threads, use_hashs, Ks, Ts, **options)\u001b[0m\n\u001b[1;32m    803\u001b[0m         options[ \u001b[38;5;124m\"\u001b[39m\u001b[38;5;124muse_thread\u001b[39m\u001b[38;5;124m\"\u001b[39m] \u001b[38;5;241m=\u001b[39m \u001b[38;5;241m0\u001b[39m \n\u001b[1;32m    804\u001b[0m         options[ \u001b[38;5;124m\"\u001b[39m\u001b[38;5;124muse_hash\u001b[39m\u001b[38;5;124m\"\u001b[39m ] \u001b[38;5;241m=\u001b[39m \u001b[38;5;241m0\u001b[39m \n\u001b[0;32m--> 806\u001b[0m         \u001b[43mtest_zernike_moments\u001b[49m\u001b[43m(\u001b[49m\u001b[43m \u001b[49m\u001b[43mdatas\u001b[49m\u001b[43m,\u001b[49m\u001b[43m \u001b[49m\u001b[43muse_gpu\u001b[49m\u001b[43m,\u001b[49m\u001b[43m \u001b[49m\u001b[43muse_threads\u001b[49m\u001b[43m,\u001b[49m\u001b[43m \u001b[49m\u001b[43muse_hashs\u001b[49m\u001b[43m,\u001b[49m\u001b[43m \u001b[49m\u001b[43mKs\u001b[49m\u001b[43m,\u001b[49m\u001b[43m \u001b[49m\u001b[43mTs\u001b[49m\u001b[43m,\u001b[49m\u001b[43m \u001b[49m\u001b[38;5;241;43m*\u001b[39;49m\u001b[38;5;241;43m*\u001b[39;49m\u001b[43moptions\u001b[49m\u001b[43m \u001b[49m\u001b[43m)\u001b[49m\n\u001b[1;32m    807\u001b[0m     \u001b[38;5;28;01mpass\u001b[39;00m\n\u001b[1;32m    808\u001b[0m \u001b[38;5;28;01melif\u001b[39;00m is_array( use_threads ) :\n",
      "File \u001b[0;32m~/Zernike/AZernike.py:815\u001b[0m, in \u001b[0;36mtest_zernike_moments\u001b[0;34m(datas, use_gpus, use_threads, use_hashs, Ks, Ts, **options)\u001b[0m\n\u001b[1;32m    812\u001b[0m         options[ \u001b[38;5;124m\"\u001b[39m\u001b[38;5;124muse_gpu\u001b[39m\u001b[38;5;124m\"\u001b[39m ] \u001b[38;5;241m=\u001b[39m use_gpus \n\u001b[1;32m    813\u001b[0m         options[ \u001b[38;5;124m\"\u001b[39m\u001b[38;5;124muse_thread\u001b[39m\u001b[38;5;124m\"\u001b[39m] \u001b[38;5;241m=\u001b[39m use_thread  \n\u001b[0;32m--> 815\u001b[0m         \u001b[43mtest_zernike_moments\u001b[49m\u001b[43m(\u001b[49m\u001b[43m \u001b[49m\u001b[43mdatas\u001b[49m\u001b[43m,\u001b[49m\u001b[43m \u001b[49m\u001b[43muse_gpus\u001b[49m\u001b[43m,\u001b[49m\u001b[43m \u001b[49m\u001b[43muse_thread\u001b[49m\u001b[43m,\u001b[49m\u001b[43m \u001b[49m\u001b[43muse_hashs\u001b[49m\u001b[43m,\u001b[49m\u001b[43m \u001b[49m\u001b[43mKs\u001b[49m\u001b[43m,\u001b[49m\u001b[43m \u001b[49m\u001b[43mTs\u001b[49m\u001b[43m,\u001b[49m\u001b[43m \u001b[49m\u001b[38;5;241;43m*\u001b[39;49m\u001b[38;5;241;43m*\u001b[39;49m\u001b[43moptions\u001b[49m\u001b[43m \u001b[49m\u001b[43m)\u001b[49m\n\u001b[1;32m    816\u001b[0m     \u001b[38;5;28;01mpass\u001b[39;00m        \n\u001b[1;32m    817\u001b[0m \u001b[38;5;28;01melif\u001b[39;00m is_array( use_hashs ) :\n",
      "File \u001b[0;32m~/Zernike/AZernike.py:825\u001b[0m, in \u001b[0;36mtest_zernike_moments\u001b[0;34m(datas, use_gpus, use_threads, use_hashs, Ks, Ts, **options)\u001b[0m\n\u001b[1;32m    822\u001b[0m         options[ \u001b[38;5;124m\"\u001b[39m\u001b[38;5;124muse_thread\u001b[39m\u001b[38;5;124m\"\u001b[39m] \u001b[38;5;241m=\u001b[39m use_threads\n\u001b[1;32m    823\u001b[0m         options[ \u001b[38;5;124m\"\u001b[39m\u001b[38;5;124muse_hash\u001b[39m\u001b[38;5;124m\"\u001b[39m ] \u001b[38;5;241m=\u001b[39m use_hash\n\u001b[0;32m--> 825\u001b[0m         \u001b[43mtest_zernike_moments\u001b[49m\u001b[43m(\u001b[49m\u001b[43m \u001b[49m\u001b[43mdatas\u001b[49m\u001b[43m,\u001b[49m\u001b[43m \u001b[49m\u001b[43muse_gpus\u001b[49m\u001b[43m,\u001b[49m\u001b[43m \u001b[49m\u001b[43muse_threads\u001b[49m\u001b[43m,\u001b[49m\u001b[43m \u001b[49m\u001b[43muse_hash\u001b[49m\u001b[43m,\u001b[49m\u001b[43m \u001b[49m\u001b[43mKs\u001b[49m\u001b[43m,\u001b[49m\u001b[43m \u001b[49m\u001b[43mTs\u001b[49m\u001b[43m,\u001b[49m\u001b[43m \u001b[49m\u001b[38;5;241;43m*\u001b[39;49m\u001b[38;5;241;43m*\u001b[39;49m\u001b[43moptions\u001b[49m\u001b[43m \u001b[49m\u001b[43m)\u001b[49m\n\u001b[1;32m    826\u001b[0m     \u001b[38;5;28;01mpass\u001b[39;00m \n\u001b[1;32m    827\u001b[0m \u001b[38;5;28;01melse\u001b[39;00m :\n",
      "File \u001b[0;32m~/Zernike/AZernike.py:872\u001b[0m, in \u001b[0;36mtest_zernike_moments\u001b[0;34m(datas, use_gpus, use_threads, use_hashs, Ks, Ts, **options)\u001b[0m\n\u001b[1;32m    868\u001b[0m options[ \u001b[38;5;124m\"\u001b[39m\u001b[38;5;124mhash\u001b[39m\u001b[38;5;124m\"\u001b[39m ] \u001b[38;5;241m=\u001b[39m {} \n\u001b[1;32m    870\u001b[0m circle_type \u001b[38;5;241m=\u001b[39m \u001b[38;5;124m\"\u001b[39m\u001b[38;5;124mouter\u001b[39m\u001b[38;5;124m\"\u001b[39m \n\u001b[0;32m--> 872\u001b[0m rho, theta, x, y, dx, dy, k, area \u001b[38;5;241m=\u001b[39m \u001b[43mrho_theta\u001b[49m\u001b[43m(\u001b[49m\u001b[43m \u001b[49m\u001b[38;5;241;43m1000\u001b[39;49m\u001b[38;5;241;43m*\u001b[39;49m\u001b[43mK\u001b[49m\u001b[43m,\u001b[49m\u001b[43m \u001b[49m\u001b[43mcircle_type\u001b[49m\u001b[43m,\u001b[49m\u001b[43m \u001b[49m\u001b[38;5;241;43m*\u001b[39;49m\u001b[38;5;241;43m*\u001b[39;49m\u001b[43moptions\u001b[49m\u001b[43m \u001b[49m\u001b[43m)\u001b[49m \n\u001b[1;32m    874\u001b[0m \u001b[38;5;28;01mif\u001b[39;00m debug : \u001b[38;5;28mprint\u001b[39m( \u001b[38;5;124mf\u001b[39m\u001b[38;5;124m\"\u001b[39m\u001b[38;5;124mrho shape = \u001b[39m\u001b[38;5;132;01m{\u001b[39;00mrho\u001b[38;5;241m.\u001b[39mshape\u001b[38;5;132;01m}\u001b[39;00m\u001b[38;5;124m\"\u001b[39m )\n\u001b[1;32m    876\u001b[0m img \u001b[38;5;241m=\u001b[39m cv\u001b[38;5;241m.\u001b[39mimread( \u001b[38;5;124m'\u001b[39m\u001b[38;5;124mimage/lenna.png\u001b[39m\u001b[38;5;124m'\u001b[39m, \u001b[38;5;241m0\u001b[39m )\n",
      "\u001b[0;31mTypeError\u001b[0m: rho_theta() got an unexpected keyword argument 'use_gpu'"
     ]
    }
   ],
   "source": [
    "# 저니크 모멘트 계산 \n",
    "\n",
    "from AZernike import *\n",
    "\n",
    "# 차수에 따른 연산 속도 \n",
    "\n",
    "print_curr_time()\n",
    "\n",
    "use_gpus    = [ 1, 0 ]\n",
    "use_threads = [ 0 ]\n",
    "use_hashs   = [ 0, 1 ]\n",
    "\n",
    "Ks = torch.arange( 1, 6 + 1, 1 )\n",
    "\n",
    "Ks = 1\n",
    "\n",
    "T_MAX = 10 \n",
    "\n",
    "max_mem = max_gpu_memory() if False else max_cpu_memory() \n",
    "\n",
    "if max_mem < 8 :\n",
    "    T_MAX = 18\n",
    "elif max_mem < 25 :\n",
    "    T_MAX = 20\n",
    "pass\n",
    "\n",
    "T = T_MAX \n",
    "\n",
    "T = torch.arange( 5, 30 + 1, 5 )\n",
    "\n",
    "datas = { }\n",
    "\n",
    "debug = 0\n",
    "\n",
    "test_zernike_moments( datas, use_gpus, use_threads, use_hashs, Ks, T, debug=debug ) \n",
    "\n",
    "plot_moment_calc_times( datas )\n",
    "\n",
    "print( \"Done.\" )\n"
   ]
  }
 ],
 "metadata": {
  "interpreter": {
   "hash": "ac59ebe37160ed0dfa835113d9b8498d9f09ceb179beaac4002f036b9467c963"
  },
  "kernelspec": {
   "display_name": "Python 3 (ipykernel)",
   "language": "python",
   "name": "python3"
  },
  "language_info": {
   "codemirror_mode": {
    "name": "ipython",
    "version": 3
   },
   "file_extension": ".py",
   "mimetype": "text/x-python",
   "name": "python",
   "nbconvert_exporter": "python",
   "pygments_lexer": "ipython3",
   "version": "3.11.6"
  }
 },
 "nbformat": 4,
 "nbformat_minor": 4
}
