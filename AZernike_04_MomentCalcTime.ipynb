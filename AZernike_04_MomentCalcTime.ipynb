{
 "cells": [
  {
   "cell_type": "code",
   "execution_count": 1,
   "metadata": {},
   "outputs": [
    {
     "name": "stdout",
     "output_type": "stream",
     "text": [
      "Hello... Good morning!\n"
     ]
    },
    {
     "name": "stdout",
     "output_type": "stream",
     "text": [
      "Importing python packages was done.\n",
      "Zernike functions are defined.\n",
      "\n",
      "Current Time = 10:49:50\n",
      "\n",
      "device=cuda:0, Hash=0, K=(1)\n"
     ]
    },
    {
     "ename": "RuntimeError",
     "evalue": "Expected all tensors to be on the same device, but found at least two devices, cuda:0 and cpu! (when checking argument for argument tensor in method wrapper_CUDA__dot)",
     "output_type": "error",
     "traceback": [
      "\u001b[0;31m---------------------------------------------------------------------------\u001b[0m",
      "\u001b[0;31mRuntimeError\u001b[0m                              Traceback (most recent call last)",
      "Cell \u001b[0;32mIn[1], line 18\u001b[0m\n\u001b[1;32m     14\u001b[0m T \u001b[38;5;241m=\u001b[39m torch\u001b[38;5;241m.\u001b[39marange( \u001b[38;5;241m5\u001b[39m, \u001b[38;5;241m30\u001b[39m \u001b[38;5;241m+\u001b[39m \u001b[38;5;241m1\u001b[39m, \u001b[38;5;241m5\u001b[39m )\n\u001b[1;32m     16\u001b[0m datas \u001b[38;5;241m=\u001b[39m { }\n\u001b[0;32m---> 18\u001b[0m \u001b[43mtest_zernike_moments\u001b[49m\u001b[43m(\u001b[49m\u001b[43m \u001b[49m\u001b[43mdatas\u001b[49m\u001b[43m,\u001b[49m\u001b[43m \u001b[49m\u001b[43muse_gpus\u001b[49m\u001b[43m,\u001b[49m\u001b[43m \u001b[49m\u001b[43muse_hashs\u001b[49m\u001b[43m,\u001b[49m\u001b[43m \u001b[49m\u001b[43mKs\u001b[49m\u001b[43m,\u001b[49m\u001b[43m \u001b[49m\u001b[43mT\u001b[49m\u001b[43m,\u001b[49m\u001b[43m \u001b[49m\u001b[43mdebug\u001b[49m\u001b[38;5;241;43m=\u001b[39;49m\u001b[38;5;241;43m0\u001b[39;49m\u001b[43m \u001b[49m\u001b[43m)\u001b[49m \n\u001b[1;32m     20\u001b[0m plot_moment_calc_times( datas )\n\u001b[1;32m     22\u001b[0m \u001b[38;5;28mprint\u001b[39m( \u001b[38;5;124m\"\u001b[39m\u001b[38;5;124mDone.\u001b[39m\u001b[38;5;124m\"\u001b[39m )\n",
      "File \u001b[0;32m~/Zernike/AZernike.py:746\u001b[0m, in \u001b[0;36mtest_zernike_moments\u001b[0;34m(datas, use_gpus, use_hashs, Ks, Ts, debug)\u001b[0m\n\u001b[1;32m    744\u001b[0m \u001b[38;5;28;01mif\u001b[39;00m is_array( use_gpus ) :\n\u001b[1;32m    745\u001b[0m     \u001b[38;5;28;01mfor\u001b[39;00m use_gpu \u001b[38;5;129;01min\u001b[39;00m use_gpus :\n\u001b[0;32m--> 746\u001b[0m         \u001b[43mtest_zernike_moments\u001b[49m\u001b[43m(\u001b[49m\u001b[43m \u001b[49m\u001b[43mdatas\u001b[49m\u001b[43m,\u001b[49m\u001b[43m \u001b[49m\u001b[43muse_gpu\u001b[49m\u001b[43m,\u001b[49m\u001b[43m \u001b[49m\u001b[43muse_hashs\u001b[49m\u001b[43m,\u001b[49m\u001b[43m \u001b[49m\u001b[43mKs\u001b[49m\u001b[43m,\u001b[49m\u001b[43m \u001b[49m\u001b[43mTs\u001b[49m\u001b[43m,\u001b[49m\u001b[43m \u001b[49m\u001b[43mdebug\u001b[49m\u001b[38;5;241;43m=\u001b[39;49m\u001b[43mdebug\u001b[49m\u001b[43m \u001b[49m\u001b[43m)\u001b[49m\n\u001b[1;32m    747\u001b[0m     \u001b[38;5;28;01mpass\u001b[39;00m\n\u001b[1;32m    748\u001b[0m \u001b[38;5;28;01melif\u001b[39;00m is_array( use_hashs ) :\n",
      "File \u001b[0;32m~/Zernike/AZernike.py:750\u001b[0m, in \u001b[0;36mtest_zernike_moments\u001b[0;34m(datas, use_gpus, use_hashs, Ks, Ts, debug)\u001b[0m\n\u001b[1;32m    748\u001b[0m \u001b[38;5;28;01melif\u001b[39;00m is_array( use_hashs ) :\n\u001b[1;32m    749\u001b[0m     \u001b[38;5;28;01mfor\u001b[39;00m use_hash \u001b[38;5;129;01min\u001b[39;00m use_hashs :\n\u001b[0;32m--> 750\u001b[0m         \u001b[43mtest_zernike_moments\u001b[49m\u001b[43m(\u001b[49m\u001b[43m \u001b[49m\u001b[43mdatas\u001b[49m\u001b[43m,\u001b[49m\u001b[43m \u001b[49m\u001b[43muse_gpus\u001b[49m\u001b[43m,\u001b[49m\u001b[43m \u001b[49m\u001b[43muse_hash\u001b[49m\u001b[43m,\u001b[49m\u001b[43m \u001b[49m\u001b[43mKs\u001b[49m\u001b[43m,\u001b[49m\u001b[43m \u001b[49m\u001b[43mTs\u001b[49m\u001b[43m,\u001b[49m\u001b[43m \u001b[49m\u001b[43mdebug\u001b[49m\u001b[38;5;241;43m=\u001b[39;49m\u001b[43mdebug\u001b[49m\u001b[43m \u001b[49m\u001b[43m)\u001b[49m\n\u001b[1;32m    751\u001b[0m     \u001b[38;5;28;01mpass\u001b[39;00m \n\u001b[1;32m    752\u001b[0m \u001b[38;5;28;01melse\u001b[39;00m :\n",
      "File \u001b[0;32m~/Zernike/AZernike.py:818\u001b[0m, in \u001b[0;36mtest_zernike_moments\u001b[0;34m(datas, use_gpus, use_hashs, Ks, Ts, debug)\u001b[0m\n\u001b[1;32m    815\u001b[0m img \u001b[38;5;241m=\u001b[39m torch\u001b[38;5;241m.\u001b[39mtensor( img )\n\u001b[1;32m    817\u001b[0m \u001b[38;5;28;01mfor\u001b[39;00m T \u001b[38;5;129;01min\u001b[39;00m Ts :\n\u001b[0;32m--> 818\u001b[0m     moments, run_time \u001b[38;5;241m=\u001b[39m \u001b[43mcalc_moments\u001b[49m\u001b[43m(\u001b[49m\u001b[43mT\u001b[49m\u001b[43m,\u001b[49m\u001b[43m \u001b[49m\u001b[43mimg\u001b[49m\u001b[43m,\u001b[49m\u001b[43m \u001b[49m\u001b[43mrho\u001b[49m\u001b[43m,\u001b[49m\u001b[43m \u001b[49m\u001b[43mtheta\u001b[49m\u001b[43m,\u001b[49m\u001b[43m \u001b[49m\u001b[43mdx\u001b[49m\u001b[43m,\u001b[49m\u001b[43m \u001b[49m\u001b[43mdy\u001b[49m\u001b[43m,\u001b[49m\u001b[43m \u001b[49m\u001b[43mdevice\u001b[49m\u001b[38;5;241;43m=\u001b[39;49m\u001b[43mdevice\u001b[49m\u001b[43m,\u001b[49m\u001b[43m \u001b[49m\u001b[38;5;28;43mhash\u001b[39;49m\u001b[38;5;241;43m=\u001b[39;49m\u001b[38;5;28;43mhash\u001b[39;49m\u001b[43m,\u001b[49m\u001b[43m \u001b[49m\u001b[43mdebug\u001b[49m\u001b[38;5;241;43m=\u001b[39;49m\u001b[43mdebug\u001b[49m\u001b[43m \u001b[49m\u001b[43m)\u001b[49m\n\u001b[1;32m    820\u001b[0m     \u001b[38;5;28mprint\u001b[39m( \u001b[38;5;124mf\u001b[39m\u001b[38;5;124m\"\u001b[39m\u001b[38;5;124mK = \u001b[39m\u001b[38;5;132;01m{\u001b[39;00mK\u001b[38;5;132;01m:\u001b[39;00m\u001b[38;5;124m2\u001b[39m\u001b[38;5;132;01m}\u001b[39;00m\u001b[38;5;124m, T = \u001b[39m\u001b[38;5;132;01m{\u001b[39;00mT\u001b[38;5;132;01m:\u001b[39;00m\u001b[38;5;124m2\u001b[39m\u001b[38;5;132;01m}\u001b[39;00m\u001b[38;5;124m, Run-time = \u001b[39m\u001b[38;5;132;01m{\u001b[39;00mrun_time\u001b[38;5;132;01m:\u001b[39;00m\u001b[38;5;124m7.2f\u001b[39m\u001b[38;5;132;01m}\u001b[39;00m\u001b[38;5;124m (sec.)\u001b[39m\u001b[38;5;124m\"\u001b[39m ) \n\u001b[1;32m    822\u001b[0m     run_times\u001b[38;5;241m.\u001b[39mappend( run_time )\n",
      "File \u001b[0;32m~/Zernike/AZernike.py:622\u001b[0m, in \u001b[0;36mcalc_moments\u001b[0;34m(T, img, rho, theta, dx, dy, device, hash, debug)\u001b[0m\n\u001b[1;32m    619\u001b[0m \u001b[38;5;28;01mfor\u001b[39;00m p, q \u001b[38;5;129;01min\u001b[39;00m pq_list( T ) : \n\u001b[1;32m    620\u001b[0m     v_pq \u001b[38;5;241m=\u001b[39m Vpq( p, q, rho, theta, device\u001b[38;5;241m=\u001b[39mdevice, \u001b[38;5;28mhash\u001b[39m\u001b[38;5;241m=\u001b[39m\u001b[38;5;28mhash\u001b[39m, debug\u001b[38;5;241m=\u001b[39mdebug ) \n\u001b[0;32m--> 622\u001b[0m     moment \u001b[38;5;241m=\u001b[39m \u001b[43mtorch\u001b[49m\u001b[38;5;241;43m.\u001b[39;49m\u001b[43mdot\u001b[49m\u001b[43m(\u001b[49m\u001b[43m \u001b[49m\u001b[43mv_pq\u001b[49m\u001b[43m,\u001b[49m\u001b[43m \u001b[49m\u001b[43mimg_rav\u001b[49m\u001b[43m \u001b[49m\u001b[43m)\u001b[49m\u001b[38;5;241m*\u001b[39mdx\u001b[38;5;241m*\u001b[39mdy\n\u001b[1;32m    624\u001b[0m     moment \u001b[38;5;241m=\u001b[39m torch\u001b[38;5;241m.\u001b[39mconjugate( moment )\n\u001b[1;32m    626\u001b[0m     moments[ p, q ] \u001b[38;5;241m=\u001b[39m moment\n",
      "\u001b[0;31mRuntimeError\u001b[0m: Expected all tensors to be on the same device, but found at least two devices, cuda:0 and cpu! (when checking argument for argument tensor in method wrapper_CUDA__dot)"
     ]
    }
   ],
   "source": [
    "# 저니크 모멘트 계산 \n",
    "\n",
    "from AZernike import *\n",
    "\n",
    "# 차수에 따른 연산 속도 \n",
    "\n",
    "print_curr_time()\n",
    "\n",
    "use_gpus    = [ 1, 0 ]\n",
    "use_hashs   = [ 0, 1 ]\n",
    "\n",
    "Ks = torch.arange( 1, 6 + 1, 1 )\n",
    "Ks = 1\n",
    "T = torch.arange( 5, 30 + 1, 5 )\n",
    "\n",
    "datas = { }\n",
    "\n",
    "test_zernike_moments( datas, use_gpus, use_hashs, Ks, T, debug=0 ) \n",
    "\n",
    "plot_moment_calc_times( datas )\n",
    "\n",
    "print( \"Done.\" )\n"
   ]
  }
 ],
 "metadata": {
  "interpreter": {
   "hash": "ac59ebe37160ed0dfa835113d9b8498d9f09ceb179beaac4002f036b9467c963"
  },
  "kernelspec": {
   "display_name": "Python 3 (ipykernel)",
   "language": "python",
   "name": "python3"
  },
  "language_info": {
   "codemirror_mode": {
    "name": "ipython",
    "version": 3
   },
   "file_extension": ".py",
   "mimetype": "text/x-python",
   "name": "python",
   "nbconvert_exporter": "python",
   "pygments_lexer": "ipython3",
   "version": "3.11.6"
  }
 },
 "nbformat": 4,
 "nbformat_minor": 4
}
