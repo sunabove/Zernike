{
 "cells": [
  {
   "cell_type": "code",
   "execution_count": 1,
   "metadata": {
    "scrolled": true
   },
   "outputs": [
    {
     "name": "stdout",
     "output_type": "stream",
     "text": [
      "Hello... Good morning!\n",
      "\n",
      "Packages imported.\n",
      "Zernike functions are defined.\n",
      "\n",
      "Zernike function orthogonality validation\n",
      "\n",
      "device = GPU\n",
      "[   0 % ] GPU, P = 5, K = 1, Resolution = 1_000\n",
      "[   1 % ] Error avg. = 0.0000794769, Elapsed time = 1.0871, 0:00:01\n",
      "[   1 % ] GPU, P = 5, K = 2, Resolution = 2_000\n",
      "[   2 % ] Error avg. = 0.0000285741, Elapsed time = 0.9558, 0:00:00\n",
      "[   2 % ] GPU, P = 5, K = 3, Resolution = 3_000\n",
      "[   4 % ] Error avg. = 0.0000113318, Elapsed time = 1.8011, 0:00:01\n",
      "[   4 % ] GPU, P = 5, K = 4, Resolution = 4_000\n",
      "[   5 % ] Error avg. = 0.0000078540, Elapsed time = 2.9800, 0:00:02\n",
      "[   5 % ] GPU, P = 5, K = 5, Resolution = 5_000\n",
      "[   6 % ] Error avg. = 0.0000079461, Elapsed time = 4.4980, 0:00:04\n",
      "[   6 % ] GPU, P = 5, K = 6, Resolution = 6_000\n",
      "[   8 % ] Error avg. = 0.0000052226, Elapsed time = 6.3296, 0:00:06\n",
      "[   8 % ] GPU, P = 10, K = 1, Resolution = 1_000\n",
      "[   9 % ] Error avg. = 0.0001344000, Elapsed time = 6.6302, 0:00:06\n",
      "[   9 % ] GPU, P = 10, K = 2, Resolution = 2_000\n",
      "[  11 % ] Error avg. = 0.0000485672, Elapsed time = 14.5140, 0:00:14\n",
      "[  11 % ] GPU, P = 10, K = 3, Resolution = 3_000\n",
      "[  12 % ] Error avg. = 0.0000233978, Elapsed time = 27.1645, 0:00:27\n",
      "[  12 % ] GPU, P = 10, K = 4, Resolution = 4_000\n",
      "[  13 % ] Error avg. = 0.0000155638, Elapsed time = 44.9204, 0:00:44\n",
      "[  13 % ] GPU, P = 10, K = 5, Resolution = 5_000\n",
      "[  15 % ] Error avg. = 0.0000126771, Elapsed time = 67.9554, 0:01:07\n",
      "[  15 % ] GPU, P = 10, K = 6, Resolution = 6_000\n",
      "[  16 % ] Error avg. = 0.0000091782, Elapsed time = 95.8229, 0:01:35\n",
      "[  16 % ] GPU, P = 15, K = 1, Resolution = 1_000\n",
      "[  18 % ] Error avg. = 0.0001962078, Elapsed time = 41.1633, 0:00:41\n",
      "[  18 % ] GPU, P = 15, K = 2, Resolution = 2_000\n",
      "[  19 % ] Error avg. = 0.0000679507, Elapsed time = 83.0127, 0:01:23\n",
      "[  19 % ] GPU, P = 15, K = 3, Resolution = 3_000\n",
      "[  20 % ] Error avg. = 0.0000353212, Elapsed time = 155.8093, 0:02:35\n",
      "[  20 % ] GPU, P = 15, K = 4, Resolution = 4_000\n",
      "[  22 % ] Error avg. = 0.0000230538, Elapsed time = 262.9847, 0:04:22\n",
      "[  22 % ] GPU, P = 15, K = 5, Resolution = 5_000\n",
      "[  23 % ] Error avg. = 0.0000175170, Elapsed time = 401.6234, 0:06:41\n",
      "[  23 % ] GPU, P = 15, K = 6, Resolution = 6_000\n"
     ]
    }
   ],
   "source": [
    "# 저니크 함수 직교성 테스트 \n",
    "\n",
    "from ATest_042_ZernikeFuncOrth import *\n",
    "\n",
    "print( \"Zernike function orthogonality validation\" )\n",
    "\n",
    "Ks = torch.arange( 1, 2 + 1, 1 )\n",
    "P = 10\n",
    "\n",
    "use_gpus = [ 1 ]\n",
    "\n",
    "debug = 0\n",
    "\n",
    "test_zernike_function_ortho( Ks, P=P, use_gpus=use_gpus, debug=debug )\n"
   ]
  }
 ],
 "metadata": {
  "interpreter": {
   "hash": "ac59ebe37160ed0dfa835113d9b8498d9f09ceb179beaac4002f036b9467c963"
  },
  "kernelspec": {
   "display_name": "Python 3 (ipykernel)",
   "language": "python",
   "name": "python3"
  },
  "language_info": {
   "codemirror_mode": {
    "name": "ipython",
    "version": 3
   },
   "file_extension": ".py",
   "mimetype": "text/x-python",
   "name": "python",
   "nbconvert_exporter": "python",
   "pygments_lexer": "ipython3",
   "version": "3.11.6"
  }
 },
 "nbformat": 4,
 "nbformat_minor": 4
}
