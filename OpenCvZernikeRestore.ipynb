{
 "cells": [
  {
   "cell_type": "code",
   "execution_count": 2,
   "metadata": {},
   "outputs": [],
   "source": [
    "from OpenCvZernikeRestore import *\n",
    "\n",
    "src_dir = \".\"\n",
    "\n",
    "img = cv2.imread( f'{src_dir}/image/f.png', 0 )\n",
    "img = cv2.imread( f'{src_dir}/image/lenna.png', 0 )\n",
    "\n",
    "D =12\n",
    "\n",
    "test_zernike_reconstruct( img, D=D )"
   ]
  }
 ],
 "metadata": {
  "kernelspec": {
   "display_name": "Python 3",
   "language": "python",
   "name": "python3"
  },
  "language_info": {
   "codemirror_mode": {
    "name": "ipython",
    "version": 3
   },
   "file_extension": ".py",
   "mimetype": "text/x-python",
   "name": "python",
   "nbconvert_exporter": "python",
   "pygments_lexer": "ipython3",
   "version": "3.11.6"
  }
 },
 "nbformat": 4,
 "nbformat_minor": 2
}
