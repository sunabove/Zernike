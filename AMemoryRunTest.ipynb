{
 "cells": [
  {
   "cell_type": "code",
   "execution_count": 1,
   "metadata": {},
   "outputs": [
    {
     "name": "stdout",
     "output_type": "stream",
     "text": [
      "device = cpu, grid_count = 24_795, scheduler = single-threaded\n"
     ]
    }
   ],
   "source": [
    "%%time \n",
    "\n",
    "from IPython.display import clear_output\n",
    "clear_output()\n",
    "\n",
    "from AMemoryRunTest import *\n",
    "from matplotlib import pyplot as plt\n",
    "\n",
    "devices = [ \"CPU\", \"Multi-CPU\", \"GPU\" ]\n",
    "devices = [ \"CPU\", \"Multi-CPU\", \"GPU\", \"Multi-GPU\" ]\n",
    "devices = devices[::-1]\n",
    "memories, durations, grid_counts = test_memory_multiply_performance( devices )\n",
    "\n",
    "row_cnt = 1; col_cnt = 1\n",
    "fig, charts = plt.subplots( row_cnt, col_cnt, figsize=( 8*col_cnt, 6*row_cnt) )\n",
    "charts = charts.flatten() if row_cnt*col_cnt > 1 else [charts]\n",
    "chart_idx = 0 \n",
    "chart = charts[ chart_idx ]\n",
    "\n",
    "n = len( devices )\n",
    "x = numpy.arange( n )\n",
    "\n",
    "memories = numpy.array( memories )/1e6\n",
    "durations = numpy.array( durations )*1e3\n",
    "\n",
    "w = 0.2 \n",
    "\n",
    "idx = -1\n",
    "chart.bar ( x + w*idx, memories, label=\"Memory (Mb)\", width=w ); idx+=1\n",
    "chart.bar ( x + w*idx, grid_counts, label=\"Grid Count\", width=w ); idx+=1\n",
    "chart.bar ( x + w*idx, durations, label=\"Running Time(mili sec.)\", width=w );\n",
    "chart.plot( x + w*idx, durations, marker=\"D\" )\n",
    "\n",
    "chart.set_title( f\"\\nArray Multiplication Performance\\n\" )\n",
    "chart.set_xlabel( \"Device\\n\" )\n",
    "chart.set_xticks( x )\n",
    "chart.set_xticklabels( devices ) \n",
    "chart.legend(loc=\"lower center\", bbox_to_anchor=(0.5, -0.2), ncol=n)\n",
    "\n",
    "plt.tight_layout()\n",
    "plt.savefig( f\"./result/array_multiplication_performance.png\" )\n",
    "plt.show()\n"
   ]
  },
  {
   "cell_type": "code",
   "execution_count": null,
   "metadata": {},
   "outputs": [],
   "source": [
    "# numpy <==> cupy array conversion performance test\n",
    "import numpy, cupy, math, psutil, dask.array as da\n",
    "#from dask_cuda import LocalCUDACluster\n",
    "#from dask.distributed import Client\n",
    "from time import *\n",
    "from time import perf_counter\n"
   ]
  }
 ],
 "metadata": {
  "interpreter": {
   "hash": "916dbcbb3f70747c44a77c7bcd40155683ae19c65e1c03b4aa3499c5328201f1"
  },
  "kernelspec": {
   "display_name": "Python 3.9.7 64-bit",
   "language": "python",
   "name": "python3"
  },
  "language_info": {
   "codemirror_mode": {
    "name": "ipython",
    "version": 3
   },
   "file_extension": ".py",
   "mimetype": "text/x-python",
   "name": "python",
   "nbconvert_exporter": "python",
   "pygments_lexer": "ipython3",
   "version": "3.9.7"
  },
  "orig_nbformat": 4
 },
 "nbformat": 4,
 "nbformat_minor": 2
}
