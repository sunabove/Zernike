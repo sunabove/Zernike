{
 "cells": [
  {
   "cell_type": "code",
   "execution_count": 2,
   "metadata": {},
   "outputs": [
    {
     "name": "stdout",
     "output_type": "stream",
     "text": [
      "OS:  Linux 5.13.0-22-generic\n",
      "Python version:  3.9.7 (default, Sep 10 2021, 14:59:43) [GCC 11.2.0]\n",
      "Numpy version:  1.21.5\n",
      "Cupy version:  10.0.0\n",
      "Ray version:  1.9.1\n",
      "Dask version:  2021.11.2\n"
     ]
    }
   ],
   "source": [
    "import platform\n",
    "import sys\n",
    "import numpy\n",
    "import cupy\n",
    "import ray\n",
    "import dask \n",
    "\n",
    "print( \"OS: \", platform.system(), platform.release() )\n",
    "print( \"Python version: \", sys.version.replace( \"\\n\", \"\" ))\n",
    "print( \"Numpy version: \", numpy.__version__ )\n",
    "print( \"Cupy version: \", cupy.__version__ )\n",
    "print( \"Ray version: \", ray.__version__ )\n",
    "print( \"Dask version: \", dask.__version__ ) \n"
   ]
  },
  {
   "cell_type": "code",
   "execution_count": 9,
   "metadata": {},
   "outputs": [
    {
     "name": "stdout",
     "output_type": "stream",
     "text": [
      "Linux 5.13.0-22-generic\n"
     ]
    }
   ],
   "source": []
  }
 ],
 "metadata": {
  "kernelspec": {
   "display_name": "Python 3 (ipykernel)",
   "language": "python",
   "name": "python3"
  },
  "language_info": {
   "codemirror_mode": {
    "name": "ipython",
    "version": 3
   },
   "file_extension": ".py",
   "mimetype": "text/x-python",
   "name": "python",
   "nbconvert_exporter": "python",
   "pygments_lexer": "ipython3",
   "version": "3.9.7"
  },
  "orig_nbformat": 4
 },
 "nbformat": 4,
 "nbformat_minor": 2
}
