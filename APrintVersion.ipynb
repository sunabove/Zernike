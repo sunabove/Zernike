{
 "cells": [
  {
   "cell_type": "code",
   "execution_count": null,
   "metadata": {},
   "outputs": [],
   "source": [
    "import numpy\n",
    "import cupy\n",
    "import ray\n",
    "import dask\n",
    "import dask_cuda\n",
    "\n",
    "print( \"Numpy version: \", numpy.__version__ )\n",
    "print( \"Cupy version: \", cupy.__version__ )\n",
    "print( \"Rasy version: \", ray.__version__ )\n",
    "print( \"Dask version: \", dask.__version__ )\n",
    "print( \"Dask cuda version: \", dask_cuda.__version__ )\n"
   ]
  }
 ],
 "metadata": {
  "language_info": {
   "name": "plaintext"
  },
  "orig_nbformat": 4
 },
 "nbformat": 4,
 "nbformat_minor": 2
}
