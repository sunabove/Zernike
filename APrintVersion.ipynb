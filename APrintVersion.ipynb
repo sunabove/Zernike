{
 "cells": [
  {
   "cell_type": "code",
   "execution_count": null,
   "metadata": {},
   "outputs": [
    {
     "ename": "",
     "evalue": "",
     "output_type": "error",
     "traceback": [
      "\u001b[1;31mUnable to start Kernel 'Python 3 (ipykernel)' due to connection timeout. \n",
      "View Jupyter <a href='command:jupyter.viewOutput'>log</a> for further details."
     ]
    }
   ],
   "source": [
    "import numpy\n",
    "import cupy\n",
    "import ray\n",
    "import dask\n",
    "import dask_cuda\n",
    "\n",
    "print( \"Numpy version: \", numpy.__version__ )\n",
    "print( \"Cupy version: \", cupy.__version__ )\n",
    "print( \"Rasy version: \", ray.__version__ )\n",
    "print( \"Dask version: \", dask.__version__ )\n",
    "print( \"Dask cuda version: \", dask_cuda.__version__ )\n"
   ]
  }
 ],
 "metadata": {
  "kernelspec": {
   "display_name": "Python 3 (ipykernel)",
   "language": "python",
   "name": "python3"
  },
  "orig_nbformat": 4
 },
 "nbformat": 4,
 "nbformat_minor": 2
}
