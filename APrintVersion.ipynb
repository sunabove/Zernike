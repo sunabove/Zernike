{
 "cells": [
  {
   "cell_type": "code",
   "execution_count": null,
   "metadata": {},
   "outputs": [],
   "source": [
    "! pip install numpy\n",
    "! pip install cupy\n",
    "! pip install torch torchvision torchaudio\n",
    "! pip install dask"
   ]
  },
  {
   "cell_type": "code",
   "execution_count": 3,
   "metadata": {},
   "outputs": [
    {
     "name": "stdout",
     "output_type": "stream",
     "text": [
      "OS:  Linux 6.5.0-13-generic\n",
      "Python version:  3.11.6 (main, Oct  8 2023, 05:06:43) [GCC 13.2.0]\n",
      "\n",
      "Numpy version:  1.26.2\n",
      "Cupy version:  12.2.0\n",
      "Torch version:  2.1.1+cu121\n",
      "Dask version:  2023.11.0\n"
     ]
    }
   ],
   "source": [
    "import platform\n",
    "import sys\n",
    "\n",
    "import numpy\n",
    "import cupy\n",
    "import torch\n",
    "import dask \n",
    "\n",
    "print( \"OS: \", platform.system(), platform.release() )\n",
    "print( \"Python version: \", sys.version.replace( \"\\n\", \"\" ))\n",
    "print()\n",
    "\n",
    "print( \"Numpy version: \", numpy.__version__ )\n",
    "print( \"Cupy version: \", cupy.__version__ )\n",
    "print( \"Torch version: \", torch.__version__ )\n",
    "print( \"Dask version: \", dask.__version__ ) \n"
   ]
  }
 ],
 "metadata": {
  "kernelspec": {
   "display_name": "Python 3 (ipykernel)",
   "language": "python",
   "name": "python3"
  },
  "language_info": {
   "codemirror_mode": {
    "name": "ipython",
    "version": 3
   },
   "file_extension": ".py",
   "mimetype": "text/x-python",
   "name": "python",
   "nbconvert_exporter": "python",
   "pygments_lexer": "ipython3",
   "version": "3.11.6"
  }
 },
 "nbformat": 4,
 "nbformat_minor": 4
}
