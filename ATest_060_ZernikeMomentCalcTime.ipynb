{
 "cells": [
  {
   "cell_type": "code",
   "execution_count": null,
   "metadata": {},
   "outputs": [],
   "source": [
    "# 저니크 모멘트 계산 # 저니크 모멘트 계산 \n",
    "\n",
    "from IPython.display import clear_output\n",
    "clear_output()\n",
    "\n",
    "from ATest_060_ZernikeMomentCalcTime import *\n",
    "\n",
    "torch.set_warn_always( False )\n",
    "import warnings\n",
    "warnings.filterwarnings( \"ignore\" )\n",
    "\n",
    "# 차수에 따른 연산 속도 \n",
    "\n",
    "Ps = torch.arange( 5, 15 + 1, 5 )\n",
    "Ks = torch.arange( 1,  6 + 1, 1 )\n",
    "\n",
    "Ps = torch.arange( 5, 25 + 1, 5 )\n",
    "Ks = torch.arange( 1,  5 + 1, 1 )\n",
    "\n",
    "Ps = torch.arange( 5, 15 + 1, 5 )\n",
    "Ks = torch.arange( 1,  4 + 1, 1 )\n",
    "\n",
    "Ps = torch.arange( 5, 30 + 1, 5 )\n",
    "Ks = torch.arange( 1,  4 + 1, 1 )\n",
    "\n",
    "Ps = torch.arange( 10, 25 + 1, 5 )\n",
    "Ks = torch.arange( 1,  5 + 1, 1 )\n",
    "\n",
    "Ps = torch.arange( 8, 24 + 1, 4 )\n",
    "Ks = torch.arange( 1,  5 + 1, 1 )\n",
    "\n",
    "use_gpus   = [ 0, 1 ] \n",
    "use_caches = [ 0 ]\n",
    "\n",
    "debug = 0\n",
    "\n",
    "test_zernike_moments_calc_times( use_gpus, use_caches, Ps, Ks, debug=debug )\n",
    "\n",
    "print( \"Done.\" )"
   ]
  },
  {
   "cell_type": "code",
   "execution_count": 2,
   "metadata": {},
   "outputs": [
    {
     "name": "stdout",
     "output_type": "stream",
     "text": [
      "Warm up gpu devices ... Done.\n",
      "--- Loading vpq cache P = 24, MaxK = 5, circle_type = outer, device = cpu, jupyter = True\n"
     ]
    }
   ],
   "source": [
    "# 저니크 모멘트 계산 # 저니크 모멘트 계산 \n",
    "\n",
    "from IPython.display import clear_output\n",
    "clear_output()\n",
    "\n",
    "from ATest_060_ZernikeMomentCalcTime import *\n",
    "\n",
    "torch.set_warn_always( False )\n",
    "import warnings\n",
    "warnings.filterwarnings( \"ignore\" )\n",
    "\n",
    "Ps = torch.arange( 20, 24 + 1, 4 )\n",
    "Ks = torch.arange( 1,  5 + 1, 1 )\n",
    "\n",
    "use_gpus   = [ 1 ] \n",
    "use_caches = [ 1 ]\n",
    "\n",
    "debug = 0\n",
    "\n",
    "test_zernike_moments_calc_times( use_gpus, use_caches, Ps, Ks, debug=debug )\n",
    "\n",
    "print( \"Done.\" )"
   ]
  }
 ],
 "metadata": {
  "interpreter": {
   "hash": "ac59ebe37160ed0dfa835113d9b8498d9f09ceb179beaac4002f036b9467c963"
  },
  "kernelspec": {
   "display_name": "Python 3 (ipykernel)",
   "language": "python",
   "name": "python3"
  },
  "language_info": {
   "codemirror_mode": {
    "name": "ipython",
    "version": 3
   },
   "file_extension": ".py",
   "mimetype": "text/x-python",
   "name": "python",
   "nbconvert_exporter": "python",
   "pygments_lexer": "ipython3",
   "version": "3.11.6"
  }
 },
 "nbformat": 4,
 "nbformat_minor": 4
}
