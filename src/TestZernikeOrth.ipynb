{
 "cells": [
  {
   "cell_type": "code",
   "execution_count": null,
   "id": "applicable-bulletin",
   "metadata": {},
   "outputs": [],
   "source": [
    "import matplotlib.pyplot as plt\n",
    "\n",
    "%matplotlib inline\n",
    "\n",
    "print( \"Done importing.\" )"
   ]
  },
  {
   "cell_type": "code",
   "execution_count": 2,
   "id": "widespread-coffee",
   "metadata": {},
   "outputs": [
    {
     "name": "stdout",
     "output_type": "stream",
     "text": [
      "INFO TestZernikePolyOrth.py:0006 Hello ...\n",
      "INFO Zernike.py:0051 Checking tables ...\n",
      "INFO Zernike.py:0082 Done. checking tables ...\n",
      "Rsum(0, 0) = 1.0001000000, result = Good\n",
      "Rsum(1, 0) = 0.0004000000, result = Good\n",
      "Rsum(1, 1) = 1.0002000100, result = Good\n",
      "Rsum(2, 0) = 0.0006000000, result = Good\n",
      "Rsum(2, 1) = 0.0006000000, result = Good\n",
      "Rsum(2, 2) = 1.0003000250, result = Good\n",
      "Rsum(3, 0) = 0.0008000000, result = Good\n",
      "Rsum(3, 1) = 0.0008000000, result = Good\n",
      "Rsum(3, 2) = 0.0008000000, result = Good\n",
      "Rsum(3, 3) = 1.0004000467, result = Good\n",
      "Rsum(4, 0) = 0.0010000000, result = Good\n",
      "Rsum(4, 1) = 0.0010000000, result = Good\n",
      "Rsum(4, 2) = 0.0010000000, result = Good\n",
      "Rsum(4, 3) = 0.0010000000, result = Good\n",
      "Rsum(4, 4) = 1.0005000750, result = Good\n",
      "Rsum(5, 0) = 0.0012000000, result = Good\n",
      "Rsum(5, 1) = 0.0012000000, result = Good\n",
      "Rsum(5, 2) = 0.0012000000, result = Good\n",
      "Rsum(5, 3) = 0.0012000000, result = Good\n",
      "Rsum(5, 4) = 0.0012000000, result = Good\n",
      "Rsum(5, 5) = 1.0006001100, result = Good\n",
      "Rsum(6, 0) = 0.0014000000, result = Good\n",
      "Rsum(6, 1) = 0.0014000000, result = Good\n",
      "Rsum(6, 2) = 0.0014000000, result = Good\n",
      "Rsum(6, 3) = 0.0014000000, result = Good\n",
      "Rsum(6, 4) = 0.0014000000, result = Good\n",
      "Rsum(6, 5) = 0.0014000000, result = Good\n",
      "Rsum(6, 6) = 1.0007001517, result = Good\n",
      "Rsum(7, 0) = 0.0016000000, result = Good\n",
      "Rsum(7, 1) = 0.0016000000, result = Good\n",
      "Rsum(7, 2) = 0.0016000000, result = Good\n",
      "Rsum(7, 3) = 0.0016000000, result = Good\n",
      "Rsum(7, 4) = 0.0016000000, result = Good\n",
      "Rsum(7, 5) = 0.0016000000, result = Good\n",
      "Rsum(7, 6) = 0.0016000000, result = Good\n",
      "Rsum(7, 7) = 1.0008002000, result = Good\n",
      "Rsum(8, 0) = 0.0018000000, result = Good\n",
      "Rsum(8, 1) = 0.0018000000, result = Good\n",
      "Rsum(8, 2) = 0.0018000000, result = Good\n",
      "Rsum(8, 3) = 0.0018000000, result = Good\n",
      "Rsum(8, 4) = 0.0018000000, result = Good\n",
      "Rsum(8, 5) = 0.0018000000, result = Good\n",
      "Rsum(8, 6) = 0.0018000000, result = Good\n",
      "Rsum(8, 7) = 0.0018000000, result = Good\n",
      "Rsum(8, 8) = 1.0009002550, result = Good\n",
      "Rsum(9, 0) = 0.0020000000, result = Good\n",
      "Rsum(9, 1) = 0.0020000000, result = Good\n",
      "Rsum(9, 2) = 0.0020000000, result = Good\n",
      "Rsum(9, 3) = 0.0020000000, result = Good\n",
      "Rsum(9, 4) = 0.0020000000, result = Good\n",
      "Rsum(9, 5) = 0.0020000000, result = Good\n",
      "Rsum(9, 6) = 0.0020000000, result = Good\n",
      "Rsum(9, 7) = 0.0020000000, result = Good\n",
      "Rsum(9, 8) = 0.0020000000, result = Good\n",
      "Rsum(9, 9) = 1.0010003167, result = Good\n",
      "INFO Profiler.py:0085 *** The function[ select_polynomial ] Average: 0.000 sec(s), Max: 0.004 sec(s), Call : 2200220 times. \n",
      "INFO Profiler.py:0085 *** The function[   calc_polynomial ] Average: 0.000 sec(s), Max: 0.001 sec(s), Call : 2000000 times. \n",
      "INFO TestZernikePolyOrth.py:0046 Good bye!\n",
      "INFO Zernike.py:0045 Commit\n"
     ]
    }
   ],
   "source": [
    "from TestZernikePolyOrth import *\n",
    "\n",
    "test_zernike_polynomial_orth( div_count = 10_000 )"
   ]
  },
  {
   "cell_type": "code",
   "execution_count": null,
   "id": "alone-sound",
   "metadata": {},
   "outputs": [
    {
     "name": "stdout",
     "output_type": "stream",
     "text": [
      "Once deleted, variables cannot be recovered. Proceed (y/[n])? y\n",
      "INFO Zernike.py:0045 Commit\n",
      "INFO TestZernikeFunOrth.py:0006 Hello ...\n",
      "INFO Zernike.py:0051 Checking tables ...\n",
      "INFO Zernike.py:0082 Done. checking tables ...\n",
      "[0000000, 0.00 %] Vsum(0, 0, 0, 0) = 0.9996124088, result = Good\n",
      "[0000001, 0.44 %] Vsum(0, 0, 1, 0) = 0.0003872503, result = Good\n",
      "[0000002, 0.89 %] Vsum(0, 0, 1, 1) = 0.0000409644, result = Good\n"
     ]
    }
   ],
   "source": [
    "from TestZernikeFunOrth import *\n",
    "\n",
    "test_zenike_function_orth(div_count = 400)"
   ]
  }
 ],
 "metadata": {
  "kernelspec": {
   "display_name": "Python 3",
   "language": "python",
   "name": "python3"
  },
  "language_info": {
   "codemirror_mode": {
    "name": "ipython",
    "version": 3
   },
   "file_extension": ".py",
   "mimetype": "text/x-python",
   "name": "python",
   "nbconvert_exporter": "python",
   "pygments_lexer": "ipython3",
   "version": "3.8.8"
  }
 },
 "nbformat": 4,
 "nbformat_minor": 5
}
