{
 "cells": [
  {
   "cell_type": "code",
   "execution_count": 1,
   "metadata": {},
   "outputs": [
    {
     "name": "stdout",
     "output_type": "stream",
     "text": [
      " a =  [[[ 0  1  2  3]\n",
      "  [ 4  5  6  7]\n",
      "  [ 8  9 10 11]]\n",
      "\n",
      " [[12 13 14 15]\n",
      "  [16 17 18 19]\n",
      "  [20 21 22 23]]]\n",
      " b =  [0 1 2 3]\n",
      " c =  [[ 14  38  62]\n",
      " [ 86 110 134]]\n",
      " d =  [[ 14  38  62]\n",
      " [ 86 110 134]]\n",
      "0.25\n",
      "1\n"
     ]
    }
   ],
   "source": [
    "import numpy as np, math\n",
    "\n",
    "a = np.arange(24).reshape((2,3,4))\n",
    "b = np.arange(4)\n",
    "c = np.inner(a, b)\n",
    "d = np.inner(b, a)\n",
    "\n",
    "print( \" a = \", a )\n",
    "print( \" b = \", b )\n",
    "print( \" c = \", c )\n",
    "print( \" d = \", d )\n",
    "\n",
    "print( np.arctan2(3, 3)/math.pi )\n",
    "\n",
    "print( np.power( 0, 0 ) ) "
   ]
  },
  {
   "cell_type": "code",
   "execution_count": null,
   "metadata": {},
   "outputs": [],
   "source": [
    "if 0 : \n",
    "    chart.set_xlim( 0 , t_img.shape[1] - 1 )\n",
    "    chart.set_ylim( 0 , t_img.shape[0] - 1)\n",
    "    chart.set_yticks( np.arange( 0, t_img.shape[1]))\n",
    "    chart.set_yticks( np.arange( 0, t_img.shape[0])[::-1])\n",
    "    chart.axhline(y=0, color='k')\n",
    "    chart.axvline(x=0, color='k')\n",
    "\n",
    "    chart.add_artist( plt.Circle((0, 0), 1, fill=0) )\n",
    "    chart.scatter( x, y, marker=\".\" )"
   ]
  },
  {
   "cell_type": "code",
   "execution_count": 2,
   "metadata": {},
   "outputs": [
    {
     "name": "stdout",
     "output_type": "stream",
     "text": [
      "2.2.0\n"
     ]
    },
    {
     "data": {
      "text/html": [
       "<div>\n",
       "<style scoped>\n",
       "    .dataframe tbody tr th:only-of-type {\n",
       "        vertical-align: middle;\n",
       "    }\n",
       "\n",
       "    .dataframe tbody tr th {\n",
       "        vertical-align: top;\n",
       "    }\n",
       "\n",
       "    .dataframe thead th {\n",
       "        text-align: right;\n",
       "    }\n",
       "</style>\n",
       "<table border=\"1\" class=\"dataframe\">\n",
       "  <thead>\n",
       "    <tr style=\"text-align: right;\">\n",
       "      <th></th>\n",
       "      <th>A</th>\n",
       "      <th>B</th>\n",
       "      <th>C</th>\n",
       "    </tr>\n",
       "  </thead>\n",
       "  <tbody>\n",
       "    <tr>\n",
       "      <th>0</th>\n",
       "      <td>1</td>\n",
       "      <td>2</td>\n",
       "      <td>3</td>\n",
       "    </tr>\n",
       "    <tr>\n",
       "      <th>1</th>\n",
       "      <td>4</td>\n",
       "      <td>5</td>\n",
       "      <td>6</td>\n",
       "    </tr>\n",
       "  </tbody>\n",
       "</table>\n",
       "</div>"
      ],
      "text/plain": [
       "   A  B  C\n",
       "0  1  2  3\n",
       "1  4  5  6"
      ]
     },
     "execution_count": 2,
     "metadata": {},
     "output_type": "execute_result"
    }
   ],
   "source": [
    "import pandas as pd\n",
    "\n",
    "print( pd.__version__ )\n",
    "\n",
    "a = [ [ 1, 2,3 ] , [ 4, 5, 6 ] ]\n",
    "\n",
    "pd.DataFrame( a, columns=[ \"A\", \"B\", \"C\" ] )"
   ]
  },
  {
   "cell_type": "code",
   "execution_count": 3,
   "metadata": {},
   "outputs": [
    {
     "data": {
      "image/png": "[encoded data removed]",
      "text/plain": [
       "<Figure size 640x480 with 2 Axes>"
      ]
     },
     "metadata": {},
     "output_type": "display_data"
    }
   ],
   "source": [
    "# 히트맵 그리기\n",
    "import matplotlib.pyplot as plt\n",
    "import numpy as np\n",
    "\n",
    "arr = np.random.standard_normal((30, 40))\n",
    "\n",
    "plt.matshow(arr)\n",
    "#plt.imshow(arr)\n",
    "plt.colorbar(shrink=0.8, aspect=10) \n",
    "\n",
    "plt.show()"
   ]
  }
 ],
 "metadata": {
  "interpreter": {
   "hash": "ac59ebe37160ed0dfa835113d9b8498d9f09ceb179beaac4002f036b9467c963"
  },
  "kernelspec": {
   "display_name": "Python 3 (ipykernel)",
   "language": "python",
   "name": "python3"
  },
  "language_info": {
   "codemirror_mode": {
    "name": "ipython",
    "version": 3
   },
   "file_extension": ".py",
   "mimetype": "text/x-python",
   "name": "python",
   "nbconvert_exporter": "python",
   "pygments_lexer": "ipython3",
   "version": "3.11.6"
  }
 },
 "nbformat": 4,
 "nbformat_minor": 4
}
