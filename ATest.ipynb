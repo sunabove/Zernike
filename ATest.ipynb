{
 "cells": [
  {
   "cell_type": "code",
   "execution_count": 2,
   "metadata": {},
   "outputs": [
    {
     "name": "stdout",
     "output_type": "stream",
     "text": [
      " a =  [[[ 0  1  2  3]\n",
      "  [ 4  5  6  7]\n",
      "  [ 8  9 10 11]]\n",
      "\n",
      " [[12 13 14 15]\n",
      "  [16 17 18 19]\n",
      "  [20 21 22 23]]]\n",
      " b =  [0 1 2 3]\n",
      " c =  [[ 14  38  62]\n",
      " [ 86 110 134]]\n",
      " d =  [[ 14  38  62]\n",
      " [ 86 110 134]]\n",
      "0.25\n"
     ]
    }
   ],
   "source": [
    "import numpy as np, math\n",
    "\n",
    "a = np.arange(24).reshape((2,3,4))\n",
    "b = np.arange(4)\n",
    "c = np.inner(a, b)\n",
    "d = np.inner(b, a)\n",
    "\n",
    "print( \" a = \", a )\n",
    "print( \" b = \", b )\n",
    "print( \" c = \", c )\n",
    "print( \" d = \", d )\n",
    "\n",
    "print( np.arctan2(3, 3)/math.pi )"
   ]
  }
 ],
 "metadata": {
  "interpreter": {
   "hash": "ac59ebe37160ed0dfa835113d9b8498d9f09ceb179beaac4002f036b9467c963"
  },
  "kernelspec": {
   "display_name": "Python 3.9.7 64-bit",
   "language": "python",
   "name": "python3"
  },
  "language_info": {
   "codemirror_mode": {
    "name": "ipython",
    "version": 3
   },
   "file_extension": ".py",
   "mimetype": "text/x-python",
   "name": "python",
   "nbconvert_exporter": "python",
   "pygments_lexer": "ipython3",
   "version": "3.9.7"
  },
  "orig_nbformat": 4
 },
 "nbformat": 4,
 "nbformat_minor": 2
}
