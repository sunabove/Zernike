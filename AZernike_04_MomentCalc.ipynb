{
 "cells": [
  {
   "cell_type": "code",
   "execution_count": 22,
   "metadata": {},
   "outputs": [
    {
     "name": "stdout",
     "output_type": "stream",
     "text": [
      "Current Time = 09:29:40\n",
      "key = CPU\n",
      "\n",
      "************************************************************\n",
      "use_gpu = 0, use_hash=0\n",
      "\n",
      "************************************************************\n",
      "rho theta\n"
     ]
    },
    {
     "name": "stderr",
     "output_type": "stream",
     "text": [
      "2022-01-03:09:29:40, INFO     [AZernike.py:0457] CPU Available RAM: 16.619163648 GB\n"
     ]
    },
    {
     "name": "stdout",
     "output_type": "stream",
     "text": [
      "rho shape = (4000000,)\n",
      "img shape=  (512, 512)\n",
      "img shape=  (2000, 2000)\n",
      "************************************************************\n",
      "K = 2.0, T = 5\n",
      "\n",
      "************************************************************\n",
      "use_gpu = 0, use_hash=0\n",
      "\n",
      "************************************************************\n",
      "rho theta\n"
     ]
    },
    {
     "name": "stderr",
     "output_type": "stream",
     "text": [
      "2022-01-03:09:29:49, INFO     [AZernike.py:0457] CPU Available RAM: 16.43425792 GB\n"
     ]
    },
    {
     "name": "stdout",
     "output_type": "stream",
     "text": [
      "rho shape = (9000000,)\n",
      "img shape=  (512, 512)\n",
      "img shape=  (3000, 3000)\n",
      "************************************************************\n",
      "K = 3.0, T = 5\n",
      "\n",
      "************************************************************\n",
      "use_gpu = 0, use_hash=0\n",
      "\n",
      "************************************************************\n",
      "rho theta\n"
     ]
    },
    {
     "name": "stderr",
     "output_type": "stream",
     "text": [
      "2022-01-03:09:30:10, INFO     [AZernike.py:0457] CPU Available RAM: 16.158130176 GB\n"
     ]
    },
    {
     "name": "stdout",
     "output_type": "stream",
     "text": [
      "rho shape = (16000000,)\n",
      "img shape=  (512, 512)\n",
      "img shape=  (4000, 4000)\n",
      "************************************************************\n",
      "K = 4.0, T = 5\n",
      "\n",
      "************************************************************\n",
      "use_gpu = 0, use_hash=0\n",
      "\n",
      "************************************************************\n",
      "rho theta\n"
     ]
    },
    {
     "name": "stderr",
     "output_type": "stream",
     "text": [
      "2022-01-03:09:30:46, INFO     [AZernike.py:0457] CPU Available RAM: 15.786344448 GB\n"
     ]
    },
    {
     "name": "stdout",
     "output_type": "stream",
     "text": [
      "rho shape = (25000000,)\n",
      "img shape=  (512, 512)\n",
      "img shape=  (5000, 5000)\n",
      "************************************************************\n",
      "K = 5.0, T = 5\n",
      "key = GPU\n",
      "\n",
      "************************************************************\n",
      "use_gpu = 1, use_hash=0\n",
      "\n",
      "************************************************************\n",
      "rho theta\n"
     ]
    },
    {
     "name": "stderr",
     "output_type": "stream",
     "text": [
      "2022-01-03:09:31:39, INFO     [AZernike.py:0478] GPU Available RAM: 2.08 GB\n"
     ]
    },
    {
     "name": "stdout",
     "output_type": "stream",
     "text": [
      "rho shape = (4000000,)\n",
      "img shape=  (512, 512)\n",
      "img shape=  (2000, 2000)\n",
      "************************************************************\n",
      "K = 2.0, T = 5\n"
     ]
    },
    {
     "name": "stderr",
     "output_type": "stream",
     "text": [
      "2022-01-03:09:31:40, INFO     [AZernike.py:0478] GPU Available RAM: 2.08 GB\n"
     ]
    },
    {
     "name": "stdout",
     "output_type": "stream",
     "text": [
      "\n",
      "************************************************************\n",
      "use_gpu = 1, use_hash=0\n",
      "\n",
      "************************************************************\n",
      "rho theta\n",
      "rho shape = (9000000,)\n",
      "img shape=  (512, 512)\n",
      "img shape=  (3000, 3000)\n",
      "************************************************************\n",
      "K = 3.0, T = 5\n"
     ]
    },
    {
     "name": "stderr",
     "output_type": "stream",
     "text": [
      "2022-01-03:09:31:40, INFO     [AZernike.py:0478] GPU Available RAM: 2.08 GB\n"
     ]
    },
    {
     "name": "stdout",
     "output_type": "stream",
     "text": [
      "\n",
      "************************************************************\n",
      "use_gpu = 1, use_hash=0\n",
      "\n",
      "************************************************************\n",
      "rho theta\n",
      "rho shape = (16000000,)\n",
      "img shape=  (512, 512)\n",
      "img shape=  (4000, 4000)\n",
      "************************************************************\n",
      "K = 4.0, T = 5\n"
     ]
    },
    {
     "name": "stderr",
     "output_type": "stream",
     "text": [
      "2022-01-03:09:31:42, INFO     [AZernike.py:0478] GPU Available RAM: 2.08 GB\n"
     ]
    },
    {
     "name": "stdout",
     "output_type": "stream",
     "text": [
      "\n",
      "************************************************************\n",
      "use_gpu = 1, use_hash=0\n",
      "\n",
      "************************************************************\n",
      "rho theta\n",
      "rho shape = (25000000,)\n",
      "img shape=  (512, 512)\n",
      "img shape=  (5000, 5000)\n",
      "************************************************************\n",
      "K = 5.0, T = 5\n",
      "\n",
      "Plotting .... \n"
     ]
    },
    {
     "data": {
      "image/png": "[encoded data removed]",
      "text/plain": [
       "<Figure size 576x432 with 1 Axes>"
      ]
     },
     "metadata": {
      "needs_background": "light"
     },
     "output_type": "display_data"
    },
    {
     "name": "stdout",
     "output_type": "stream",
     "text": [
      "\n",
      "Done.\n",
      "Wall time: 2min 4s\n"
     ]
    }
   ],
   "source": [
    "%%time\n",
    "\n",
    "from IPython.display import clear_output\n",
    "clear_output()\n",
    "\n",
    "# 저니크 모멘트 계산 \n",
    "\n",
    "from AZernike import *\n",
    "\n",
    "# 차수에 따른 연산 속도 \n",
    "\n",
    "print_curr_time()\n",
    "\n",
    "line = \"*\"*60\n",
    "line2 = \"\\n\" + line\n",
    "\n",
    "img_infos = []\n",
    "    \n",
    "Ks = numpy.arange( 2, 5.1, 1 ) \n",
    "\n",
    "datas = { }\n",
    "\n",
    "for use_gpu in [0, 1] : \n",
    "    options = {}\n",
    "    options[ \"debug\" ] = 0 \n",
    "    options[ \"use_gpu\" ] = use_gpu\n",
    "    options[ \"hash\" ] = {}\n",
    "    options[ \"use_hash\" ] = 0 \n",
    "    options[ \"use_thread\"] = 0 \n",
    "    \n",
    "    device = \"GPU\" if options[\"use_gpu\"] else \"CPU\"\n",
    "    multi = \"Multi \" if options[\"use_thread\"] else \"\"\n",
    "    \n",
    "    key = f\"{multi}{device}\"\n",
    "    print( f\"key = {key}\")\n",
    "    run_times = []\n",
    "    data = {}\n",
    "    data[ \"Ks\"] = Ks\n",
    "    data[ \"run_times\" ] = run_times\n",
    "    datas[ key ] = data \n",
    "    \n",
    "    for K in Ks : \n",
    "        options[ \"hash\" ] = {}\n",
    "        \n",
    "        print( line2 )\n",
    "        print( f\"use_gpu = { options['use_gpu'] }, use_hash={ options['use_hash'] }\" )\n",
    "\n",
    "        print( line2 )\n",
    "        print( \"rho theta\")\n",
    "\n",
    "        circle_type = \"outer\" \n",
    "\n",
    "        rho, theta, x, y, dx, dy, k = rho_theta( 1000*K, circle_type, **options ) \n",
    "\n",
    "        print( f\"rho shape = {rho.shape}\" )\n",
    "\n",
    "        img = cv.imread( 'image/lenna.png', 0 )\n",
    "\n",
    "        print( \"img shape= \", img.shape )\n",
    "\n",
    "        img_org = img \n",
    "\n",
    "        np = cupy if options['use_gpu'] else numpy\n",
    "\n",
    "        img = cv.resize( img_org, (int(K*1_000), int(K*1_000)), interpolation=cv.INTER_AREA )\n",
    "\n",
    "        if options['use_gpu']  : \n",
    "            img = np.array( img )\n",
    "        pass\n",
    "\n",
    "        img_org = img\n",
    "\n",
    "        print( \"img shape= \", img.shape )\n",
    "\n",
    "        print( line )\n",
    "\n",
    "        T_MAX = 25 \n",
    "\n",
    "        max_mem = max_gpu_memory() if options['use_gpu']  else max_cpu_memory() \n",
    "\n",
    "        if max_mem < 8 :\n",
    "            T_MAX = 18\n",
    "        elif max_mem < 25 :\n",
    "            T_MAX = 20\n",
    "        pass\n",
    "\n",
    "        T_MAX = 5 \n",
    "\n",
    "        T = T_MAX\n",
    "        print( f\"K = {K}, T = {T}\" )\n",
    "\n",
    "        moments, run_time = calc_moments(T, img, rho, theta, dx, dy, **options )\n",
    "        \n",
    "        run_times.append( run_time ) \n",
    "        \n",
    "        del options[ \"hash\" ]\n",
    "    pass\n",
    "pass\n",
    "\n",
    "print( \"\\nPlotting .... \")\n",
    "    \n",
    "# 서브 챠트 생성 \n",
    "row_cnt = 1\n",
    "col_cnt = 1\n",
    "\n",
    "fig, charts = plt.subplots( row_cnt, col_cnt, figsize=(8*col_cnt, 6*row_cnt) )\n",
    "charts = charts.ravel() if row_cnt*col_cnt > 1 else [charts]\n",
    "chart_idx = 0 \n",
    "chart = charts[ chart_idx ] ; chart_idx += 1\n",
    "chart.set_title( f\"Run-time(T={T})\" ) \n",
    "\n",
    "for key in datas : \n",
    "    data = datas[ key ]\n",
    "    \n",
    "    Ks = data[ \"Ks\" ]\n",
    "    run_time = data[ \"run_times\" ]\n",
    "    \n",
    "    x = Ks\n",
    "    y = numpy.log10( run_times ) \n",
    "    \n",
    "    label = f\"Run-time {key}\"    \n",
    "    chart.plot( x, y, marker=\"s\", label=label )\n",
    "    chart.set_xlabel( \"\\nAxial Grid Count\" )\n",
    "    chart.set_ylabel( \"log10(sec.s)\")\n",
    "    chart.set_xticks( x )\n",
    "    chart.set_xticklabels( [ f\"{k} K\" for k in x ] )\n",
    "    chart.set_xlim( numpy.min(x) -1, numpy.max(x) + 1 )\n",
    "\n",
    "    chart.legend()\n",
    "pass\n",
    "\n",
    "plt.tight_layout(); plt.show() \n",
    "\n",
    "del options\n",
    "\n",
    "print( \"\\nDone.\" )\n"
   ]
  }
 ],
 "metadata": {
  "interpreter": {
   "hash": "ac59ebe37160ed0dfa835113d9b8498d9f09ceb179beaac4002f036b9467c963"
  },
  "kernelspec": {
   "display_name": "Python 3 (ipykernel)",
   "language": "python",
   "name": "python3"
  },
  "language_info": {
   "codemirror_mode": {
    "name": "ipython",
    "version": 3
   },
   "file_extension": ".py",
   "mimetype": "text/x-python",
   "name": "python",
   "nbconvert_exporter": "python",
   "pygments_lexer": "ipython3",
   "version": "3.9.7"
  }
 },
 "nbformat": 4,
 "nbformat_minor": 4
}
