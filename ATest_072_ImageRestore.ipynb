{
 "cells": [
  {
   "cell_type": "code",
   "execution_count": 1,
   "metadata": {},
   "outputs": [
    {
     "name": "stdout",
     "output_type": "stream",
     "text": [
      "Hello... Good morning!\n",
      "\n",
      "Packages imported.\n",
      "Zernike functions are defined.\n",
      "\n",
      "\n",
      "******************************************************************************************\n",
      "Warm up gpu devices ... Done.\n",
      "[ 0] lenna shape = (512, 512)\n",
      "\n",
      "******************************************************************************************\n",
      "K = 2, P = 04, elapsed = 0.29(sec.), psnr =   1.879, rmse = 7.6e+08\n",
      "K = 2, P = 08, elapsed = 0.55(sec.), psnr =   3.268, rmse = 8.0e+08\n",
      "K = 2, P = 12, elapsed = 1.17(sec.), psnr =   3.606, rmse = 8.2e+08\n"
     ]
    }
   ],
   "source": [
    "from IPython.display import clear_output\n",
    "clear_output()\n",
    "\n",
    "from ATest_072_ImageRestore import *\n",
    "\n",
    "torch.set_warn_always( False )\n",
    "import warnings\n",
    "warnings.filterwarnings( \"ignore\" )\n",
    "\n",
    "use_cache = 0\n",
    "debug = 0\n",
    "\n",
    "Ks = torch.arange( 2, 2 + 1 )\n",
    "step = 4\n",
    "Ps = torch.arange( step, step*9 + 1, step )\n",
    "\n",
    "src_dir = \".\"\n",
    "\n",
    "img_lbls = [ ]\n",
    "\n",
    "if 1 : img_lbls.append( [ cv.imread( f'{src_dir}/image/lenna.png', 0 ), \"lenna\" ] )\n",
    "if 0 : img_lbls.append( [ skimage.data.astronaut(), \"astronaut\" ] )\n",
    "if 0 : img_lbls.append( [ skimage.data.camera(), \"camera\" ] )\n",
    "if 0 : img_lbls.append( [ skimage.data.brick(), \"brick\" ] )\n",
    "if 0 : img_lbls.append( [ skimage.data.moon(), \"moon\" ] )\n",
    "if 0 : img_lbls.append( [ skimage.data.grass(), \"grass\" ] )\n",
    "pass\n",
    "\n",
    "test_image_restore( img_lbls, Ks, Ps, use_cache=use_cache, debug=debug )\n",
    "\n",
    "print( \"\\nDone.\" )"
   ]
  }
 ],
 "metadata": {
  "interpreter": {
   "hash": "ac59ebe37160ed0dfa835113d9b8498d9f09ceb179beaac4002f036b9467c963"
  },
  "kernelspec": {
   "display_name": "Python 3 (ipykernel)",
   "language": "python",
   "name": "python3"
  },
  "language_info": {
   "codemirror_mode": {
    "name": "ipython",
    "version": 3
   },
   "file_extension": ".py",
   "mimetype": "text/x-python",
   "name": "python",
   "nbconvert_exporter": "python",
   "pygments_lexer": "ipython3",
   "version": "3.11.6"
  }
 },
 "nbformat": 4,
 "nbformat_minor": 4
}
