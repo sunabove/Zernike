{
 "cells": [
  {
   "cell_type": "code",
   "execution_count": 1,
   "metadata": {},
   "outputs": [
    {
     "name": "stdout",
     "output_type": "stream",
     "text": [
      "Hello... Good morning!\n",
      "\n",
      "Packages imported.\n",
      "Zernike functions are defined.\n",
      "\n",
      "\n",
      "******************************************************************************************\n",
      "Warm up gpu devices ... Done.\n",
      "[ 0] lenna img org shape = (512, 512), min=39, max=245\n",
      "[ 0] lenna img gry shape = (512, 512), min=39, max=245\n",
      "\n",
      "******************************************************************************************\n",
      "K = 2, P = 04, elapsed = 0.30(sec.), psnr =  10.227, rmse = 7.5e+01, img restored min = 16.6, max = 235.6\n",
      "K = 2, P = 08, elapsed = 0.56(sec.), psnr =  11.368, rmse = 7.8e+01, img restored min = -1.6, max = 290.0\n",
      "K = 2, P = 12, elapsed = 1.17(sec.), psnr =  11.799, rmse = 8.0e+01, img restored min = -22.8, max = 309.7\n"
     ]
    }
   ],
   "source": [
    "from IPython.display import clear_output\n",
    "clear_output()\n",
    "\n",
    "from ATest_072_ImageRestore import *\n",
    "\n",
    "torch.set_warn_always( False )\n",
    "import warnings\n",
    "warnings.filterwarnings( \"ignore\" )\n",
    "\n",
    "use_cache = 0\n",
    "debug = 0\n",
    "\n",
    "K = 2\n",
    "Ks = torch.arange( K, K + 1 )\n",
    "col_cnt=4\n",
    "row_cnt=2\n",
    "\n",
    "step=4\n",
    "\n",
    "img_lbls = [ ]\n",
    "src_dir = \".\"\n",
    "\n",
    "if 1 : img_lbls.append( [ cv.imread( f'{src_dir}/image/lenna.png', 0 ), \"lenna\" ] )\n",
    "if 1 : img_lbls.append( [ skimage.data.astronaut(), \"astronaut\" ] )\n",
    "if 0 : img_lbls.append( [ skimage.data.camera(), \"camera\" ] )\n",
    "if 0 : img_lbls.append( [ skimage.data.brick(), \"brick\" ] )\n",
    "if 0 : img_lbls.append( [ skimage.data.moon(), \"moon\" ] )\n",
    "if 0 : img_lbls.append( [ skimage.data.grass(), \"grass\" ] ) \n",
    "\n",
    "test_image_restore( img_lbls, Ks, col_cnt=col_cnt, row_cnt=row_cnt, step=step, use_cache=use_cache, debug=debug )\n",
    "\n",
    "print( \"\\nDone.\" )"
   ]
  }
 ],
 "metadata": {
  "interpreter": {
   "hash": "ac59ebe37160ed0dfa835113d9b8498d9f09ceb179beaac4002f036b9467c963"
  },
  "kernelspec": {
   "display_name": "Python 3 (ipykernel)",
   "language": "python",
   "name": "python3"
  },
  "language_info": {
   "codemirror_mode": {
    "name": "ipython",
    "version": 3
   },
   "file_extension": ".py",
   "mimetype": "text/x-python",
   "name": "python",
   "nbconvert_exporter": "python",
   "pygments_lexer": "ipython3",
   "version": "3.11.6"
  }
 },
 "nbformat": 4,
 "nbformat_minor": 4
}
