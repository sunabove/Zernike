{
 "cells": [
  {
   "cell_type": "code",
   "execution_count": 1,
   "metadata": {},
   "outputs": [
    {
     "name": "stdout",
     "output_type": "stream",
     "text": [
      "Hello... Good morning!\n",
      "\n",
      "Importing python packages was done.\n",
      "Zernike functions are defined.\n",
      "\n",
      "key = GPU,P=(5),H=0\n",
      "K =  1, P =  5, Run-time =    0.07 (sec.)\n",
      "K =  2, P =  5, Run-time =    0.03 (sec.)\n",
      "K =  3, P =  5, Run-time =    0.05 (sec.)\n",
      "K =  4, P =  5, Run-time =    0.09 (sec.)\n",
      "K =  5, P =  5, Run-time =    0.12 (sec.)\n",
      "K =  6, P =  5, Run-time =    0.17 (sec.)\n",
      "\n",
      "key = GPU,P=(10),H=0\n",
      "K =  1, P = 10, Run-time =    0.06 (sec.)\n",
      "K =  2, P = 10, Run-time =    0.13 (sec.)\n",
      "K =  3, P = 10, Run-time =    0.24 (sec.)\n",
      "K =  4, P = 10, Run-time =    0.40 (sec.)\n",
      "K =  5, P = 10, Run-time =    0.61 (sec.)\n",
      "K =  6, P = 10, Run-time =    0.87 (sec.)\n",
      "\n",
      "key = GPU,P=(15),H=0\n",
      "K =  1, P = 15, Run-time =    0.17 (sec.)\n",
      "K =  2, P = 15, Run-time =    0.36 (sec.)\n",
      "K =  3, P = 15, Run-time =    0.70 (sec.)\n",
      "K =  4, P = 15, Run-time =    1.19 (sec.)\n",
      "K =  5, P = 15, Run-time =    1.81 (sec.)\n",
      "K =  6, P = 15, Run-time =    2.56 (sec.)\n",
      "\n",
      "key = GPU,P=(20),H=0\n",
      "K =  1, P = 20, Run-time =    0.35 (sec.)\n",
      "K =  2, P = 20, Run-time =    0.76 (sec.)\n",
      "K =  3, P = 20, Run-time =    1.50 (sec.)\n",
      "K =  4, P = 20, Run-time =    2.54 (sec.)\n",
      "K =  5, P = 20, Run-time =    3.86 (sec.)\n",
      "K =  6, P = 20, Run-time =    5.50 (sec.)\n",
      "\n",
      "key = GPU,P=(25),H=0\n",
      "K =  1, P = 25, Run-time =    0.55 (sec.)\n",
      "K =  2, P = 25, Run-time =    1.37 (sec.)\n",
      "K =  3, P = 25, Run-time =    2.78 (sec.)\n",
      "K =  4, P = 25, Run-time =    4.79 (sec.)\n",
      "K =  5, P = 25, Run-time =    7.29 (sec.)\n"
     ]
    }
   ],
   "source": [
    "# 저니크 모멘트 계산 \n",
    "\n",
    "from ATest_14_ZernikeMomentCalcTime import *\n",
    "\n",
    "# 차수에 따른 연산 속도 \n",
    "\n",
    "Ks = torch.arange( 1, 2 + 1, 1 )\n",
    "Ks = torch.arange( 1, 3 + 1, 1 )\n",
    "Ks = torch.arange( 1, 6 + 1, 1 )\n",
    "\n",
    "Ps = torch.arange( 5, 15 + 1, 5 )\n",
    "Ps = torch.arange( 5, 30 + 1, 5 )\n",
    "\n",
    "use_gpus  = 1\n",
    "use_hashs = 0\n",
    "\n",
    "datas = { }\n",
    "\n",
    "test_zernike_moments_calc_times( datas, use_gpus, use_hashs, Ks, Ps, debug=0 ) \n",
    "\n",
    "test_plot_zernike_moment_calc_times( datas )\n",
    "\n",
    "print( \"Done.\" )"
   ]
  }
 ],
 "metadata": {
  "interpreter": {
   "hash": "ac59ebe37160ed0dfa835113d9b8498d9f09ceb179beaac4002f036b9467c963"
  },
  "kernelspec": {
   "display_name": "Python 3 (ipykernel)",
   "language": "python",
   "name": "python3"
  },
  "language_info": {
   "codemirror_mode": {
    "name": "ipython",
    "version": 3
   },
   "file_extension": ".py",
   "mimetype": "text/x-python",
   "name": "python",
   "nbconvert_exporter": "python",
   "pygments_lexer": "ipython3",
   "version": "3.11.6"
  }
 },
 "nbformat": 4,
 "nbformat_minor": 4
}
