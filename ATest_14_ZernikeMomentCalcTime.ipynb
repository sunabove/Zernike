{
 "cells": [
  {
   "cell_type": "code",
   "execution_count": 1,
   "metadata": {},
   "outputs": [
    {
     "ename": "ModuleNotFoundError",
     "evalue": "No module named 'ATest_14_ZernikeMomentCalcTime'",
     "output_type": "error",
     "traceback": [
      "\u001b[0;31m---------------------------------------------------------------------------\u001b[0m",
      "\u001b[0;31mModuleNotFoundError\u001b[0m                       Traceback (most recent call last)",
      "Cell \u001b[0;32mIn[1], line 3\u001b[0m\n\u001b[1;32m      1\u001b[0m \u001b[38;5;66;03m# 저니크 모멘트 계산 \u001b[39;00m\n\u001b[0;32m----> 3\u001b[0m \u001b[38;5;28;01mfrom\u001b[39;00m \u001b[38;5;21;01mATest_14_ZernikeMomentCalcTime\u001b[39;00m \u001b[38;5;28;01mimport\u001b[39;00m \u001b[38;5;241m*\u001b[39m\n\u001b[1;32m      5\u001b[0m \u001b[38;5;66;03m# 차수에 따른 연산 속도 \u001b[39;00m\n\u001b[1;32m      7\u001b[0m print_curr_time()\n",
      "\u001b[0;31mModuleNotFoundError\u001b[0m: No module named 'ATest_14_ZernikeMomentCalcTime'"
     ]
    }
   ],
   "source": [
    "# 저니크 모멘트 계산 \n",
    "\n",
    "from ATest_14_ZernikeMomentCalcTime import *\n",
    "\n",
    "# 차수에 따른 연산 속도 \n",
    "\n",
    "print_curr_time()\n",
    "\n",
    "use_gpus    = [ 1, 0 ]\n",
    "use_hashs   = [ 0, 1 ]\n",
    "\n",
    "Ks = torch.arange( 1, 6 + 1, 1 )\n",
    "Ks = 1\n",
    "T = torch.arange( 5, 30 + 1, 5 )\n",
    "\n",
    "datas = { }\n",
    "\n",
    "test_zernike_moments_calc_times( datas, use_gpus, use_hashs, Ks, T, debug=0 ) \n",
    "\n",
    "test_plot_zernike_moment_performance( datas )\n",
    "\n",
    "print( \"Done.\" )"
   ]
  }
 ],
 "metadata": {
  "interpreter": {
   "hash": "ac59ebe37160ed0dfa835113d9b8498d9f09ceb179beaac4002f036b9467c963"
  },
  "kernelspec": {
   "display_name": "Python 3 (ipykernel)",
   "language": "python",
   "name": "python3"
  },
  "language_info": {
   "codemirror_mode": {
    "name": "ipython",
    "version": 3
   },
   "file_extension": ".py",
   "mimetype": "text/x-python",
   "name": "python",
   "nbconvert_exporter": "python",
   "pygments_lexer": "ipython3",
   "version": "3.11.6"
  }
 },
 "nbformat": 4,
 "nbformat_minor": 4
}
