{
 "cells": [
  {
   "cell_type": "code",
   "execution_count": 41,
   "metadata": {},
   "outputs": [
    {
     "name": "stdout",
     "output_type": "stream",
     "text": [
      "Current Time = 09:43:55\n",
      "Wall time: 2.01 ms\n"
     ]
    }
   ],
   "source": [
    "%%time\n",
    "\n",
    "from IPython.display import clear_output\n",
    "clear_output()\n",
    "\n",
    "# 저니크 모멘트 계산 \n",
    "\n",
    "from AZernike import *\n",
    "\n",
    "# 차수에 따른 연산 속도 \n",
    "\n",
    "print_curr_time()\n",
    "\n",
    "def test_moment_restore_times(img_info, Ks, Ts, **options) :\n",
    "    print( line2 )\n",
    "    print( f\"use_gpu = { options['use_gpu'] }, use_hash={ options['use_hash'] }, use_thread = { options['use_thread'] }\", flush=True )\n",
    "\n",
    "    use_gpu = get_option( \"use_gpu\", **options )\n",
    "    \n",
    "    img_input= img_info[ \"img\" ]\n",
    "    \n",
    "    psnrs = numpy.zeros( (len(Ks), len(Ts) ) )\n",
    "    moment_run_times = psnrs.copy()\n",
    "    restore_run_times = psnrs.copy()\n",
    "    \n",
    "    img_info[ \"psnrs\" ] = psnrs\n",
    "    img_info[ \"moment_run_times\" ] = moment_run_times\n",
    "    img_info[ \"restore_run_times\" ] = restore_run_times\n",
    "    \n",
    "    for row, K in enumerate( Ks ) : \n",
    "        print( line2 )\n",
    "        \n",
    "        options[ \"hash\" ] = {}\n",
    "\n",
    "        circle_type = \"outer\"\n",
    "        \n",
    "        rho, theta, x, y, dx, dy, k, area = rho_theta( 1000*K, circle_type, **options ) \n",
    "        \n",
    "        img = cv.resize( img_input, (int(K*1_000), int(K*1_000)), interpolation=cv.INTER_AREA )\n",
    "        \n",
    "        np = cupy if use_gpu else numpy\n",
    "        \n",
    "        if use_gpu :\n",
    "            img = cupy.asarray( img )\n",
    "        pass\n",
    "\n",
    "        # image scaled\n",
    "        img_info[ \"image scaled\" ] = { \"title\" : f\"Origianl Image (K={K})\", \"img\" : img, \"K\" : K } \n",
    "\n",
    "        for col, T in enumerate( Ts ) : \n",
    "            then = perf_counter()\n",
    "\n",
    "            moments, moment_run_time = calc_moments(T, img, rho, theta, dx, dy, **options )\n",
    "            img_restored, restore_run_time = restore_image(moments, rho, theta, **options )\n",
    "            \n",
    "            t_img = img_restored.real\n",
    "            psnr = calc_psnr( img, t_img, **options ) \n",
    "            \n",
    "            moment_run_times[ row, col ] = moment_run_time\n",
    "            restore_run_times[ row, col ] = restore_run_time\n",
    "            psnrs[ row, col ] = psnr\n",
    "\n",
    "            elapsed = perf_counter() - then\n",
    "\n",
    "            print( f\"K = {K}, T = {T}, Elapsed = {elapsed:.2f}(sec.)\" )\n",
    "        pass\n",
    "        \n",
    "        if \"hash\" in options : \n",
    "            del options[ \"hash\" ]\n",
    "        pass\n",
    "    pass\n",
    "pass # test_moment_restore\n",
    "\n",
    "def plot_moment_restore_times(img_info, Ks, Ts ) :\n",
    "    \n",
    "    psnrs = img_info[ \"psnrs\" ]\n",
    "    moment_run_times = img_info[ \"moment_run_times\" ] \n",
    "    restore_run_times = img_info[ \"restore_run_times\" ]\n",
    "    \n",
    "    # 서브 챠트 생성 \n",
    "    col_cnt = 1 \n",
    "    row_cnt = 1\n",
    "\n",
    "    w = 8\n",
    "    fig, charts = plt.subplots( row_cnt, col_cnt, figsize=(w*col_cnt, w*row_cnt) )\n",
    "    charts = charts.ravel() if row_cnt*col_cnt > 1 else [charts]\n",
    "    chart_idx = 0 \n",
    "    \n",
    "    chart = charts[ chart_idx ] ; chart_idx += 1\n",
    "\n",
    "    use_log = False \n",
    "        \n",
    "    if len( Ks ) == 1 :\n",
    "        for row, K in enumerate( Ks ) : \n",
    "            psnr = psnrs[ row ]\n",
    "            moment_rumtime = moment_run_times[ row ]\n",
    "            restore_run_time = restore_run_times[ row ]\n",
    "            \n",
    "            if use_log : \n",
    "                psnr = numpy.log10( psnr )\n",
    "                moment_rumtime = numpy.log10( moment_rumtime )\n",
    "                restore_run_time = numpy.log10( restore_run_time )\n",
    "            pass\n",
    "            \n",
    "            x = Ts\n",
    "            chart.plot( x, psnr, marker=\"D\", label= f\"PSNR(K={K})\" ) \n",
    "            chart.plot( x, moment_rumtime,  marker=\"s\", label= f\"Moment RunTime(K={K})\" ) \n",
    "            chart.plot( x, restore_run_time,  marker=\"o\", label= f\"Restoration RunTime(K={K})\" ) \n",
    "        pass  \n",
    "    else : \n",
    "        if True :\n",
    "            T = Ts[0]\n",
    "            x = Ks\n",
    "            \n",
    "            psnr = psnrs[ :, 0 ].ravel()\n",
    "            moment_rumtime = moment_run_times[ :, 0 ].ravel()\n",
    "            restore_run_time = restore_run_times[ :, 0 ].ravel()\n",
    "            \n",
    "            if use_log : \n",
    "                psnr = numpy.log10( psnr )\n",
    "                moment_rumtime = numpy.log10( moment_rumtime )\n",
    "                restore_run_time = numpy.log10( restore_run_time )\n",
    "            pass\n",
    "            \n",
    "            chart.plot( x, psnr, marker=\"D\", label= f\"PSNR(T={T})\" ) \n",
    "            chart.plot( x, moment_rumtime,  marker=\"s\", label= f\"Moment RunTime(T={T})\" ) \n",
    "            chart.plot( x, restore_run_time,  marker=\"o\", label= f\"Restoration RunTime(T={T})\" ) \n",
    "        pass\n",
    "    pass\n",
    "\n",
    "    title = \"PSNR\"\n",
    "    \n",
    "    if len(Ks) < 2 :\n",
    "        title = f\"PSNR (K={Ks[0]})\"\n",
    "        \n",
    "        chart.set_xlabel( \"T\" )\n",
    "    elif len(Ts) < 2 :\n",
    "        title = f\"PSNR (T={Ts[0]})\"\n",
    "        \n",
    "        chart.set_xlabel( \"K\" ) \n",
    "    pass\n",
    "\n",
    "    #chart.legend()\n",
    "    chart.legend(loc=\"upper center\", bbox_to_anchor=(0.5, -0.08), ncol=max( len(Ks), len(Ts) ) ) \n",
    "\n",
    "    chart.set_ylabel( \"log10(y)\" if use_log else \"\" )\n",
    "    chart.set_title( title )\n",
    "    \n",
    "    plt.tight_layout(); plt.show() \n",
    "pass # plot_moment_restore_times\n"
   ]
  },
  {
   "cell_type": "code",
   "execution_count": 42,
   "metadata": {},
   "outputs": [
    {
     "name": "stdout",
     "output_type": "stream",
     "text": [
      "\n",
      "************************************************************\n",
      "use_gpu = 1, use_hash=1, use_thread = 0\n",
      "\n",
      "************************************************************\n",
      "K = 2, T = 5, Elapsed = 1.76(sec.)\n",
      "K = 2, T = 6, Elapsed = 1.54(sec.)\n",
      "K = 2, T = 7, Elapsed = 1.87(sec.)\n",
      "K = 2, T = 8, Elapsed = 2.35(sec.)\n"
     ]
    },
    {
     "data": {
      "image/png": "[encoded data removed]",
      "text/plain": [
       "<Figure size 576x576 with 1 Axes>"
      ]
     },
     "metadata": {
      "needs_background": "light"
     },
     "output_type": "display_data"
    },
    {
     "name": "stdout",
     "output_type": "stream",
     "text": [
      "\n",
      "Done.\n"
     ]
    }
   ],
   "source": [
    "options = {}\n",
    "options[ \"debug\" ] = 0 \n",
    "options[ \"use_gpu\" ] = 1\n",
    "options[ \"hash\" ] = {}\n",
    "options[ \"use_hash\" ] = 1  \n",
    "options[ \"use_thread\"] = 0 \n",
    "\n",
    "img_infos = []\n",
    "    \n",
    "Ks = numpy.arange( 2, 2 + 1, 1 )\n",
    "Ts = numpy.arange( 5, 8 + 1, 1 )\n",
    "\n",
    "# 예제 이미지 데이터\n",
    "img_infos =  [ \n",
    "    { \"name\" : \"lena\",         \"img\" : rgb2gray( io.imread( 'image/lenna.png' ) ) } , \n",
    "    { \"name\" : \"astronaut\",    \"img\" : rgb2gray( data.astronaut() )} ,\n",
    "    { \"name\" : \"camera\",       \"img\" : data.camera() },\n",
    "    \n",
    "    { \"name\" : \"brick\",        \"img\" : data.brick() },    \n",
    "    { \"name\" : \"moon\",         \"img\" : data.moon() },\n",
    "    { \"name\" : \"grass\",        \"img\" : data.grass() },   \n",
    "] \n",
    "\n",
    "img_info = img_infos[0]\n",
    "        \n",
    "test_moment_restore_times( img_info, Ks, Ts, **options )\n",
    "plot_moment_restore_times( img_info, Ks, Ts )\n",
    "\n",
    "print( \"\\nDone.\" )"
   ]
  },
  {
   "cell_type": "code",
   "execution_count": 43,
   "metadata": {},
   "outputs": [
    {
     "name": "stdout",
     "output_type": "stream",
     "text": [
      "\n",
      "************************************************************\n",
      "use_gpu = 1, use_hash=1, use_thread = 0\n",
      "\n",
      "************************************************************\n",
      "K = 2, T = 5, Elapsed = 1.74(sec.)\n",
      "\n",
      "************************************************************\n",
      "K = 3, T = 5, Elapsed = 3.93(sec.)\n",
      "\n",
      "************************************************************\n",
      "K = 4, T = 5, Elapsed = 5.05(sec.)\n",
      "\n",
      "************************************************************\n",
      "K = 5, T = 5, Elapsed = 12.00(sec.)\n"
     ]
    },
    {
     "data": {
      "image/png": "[encoded data removed]",
      "text/plain": [
       "<Figure size 576x576 with 1 Axes>"
      ]
     },
     "metadata": {
      "needs_background": "light"
     },
     "output_type": "display_data"
    },
    {
     "name": "stdout",
     "output_type": "stream",
     "text": [
      "\n",
      "Done.\n"
     ]
    }
   ],
   "source": [
    "options = {}\n",
    "options[ \"debug\" ] = 0 \n",
    "options[ \"use_gpu\" ] = 1\n",
    "options[ \"hash\" ] = {}\n",
    "options[ \"use_hash\" ] = 1  \n",
    "options[ \"use_thread\"] = 0 \n",
    "\n",
    "img_infos = []\n",
    "    \n",
    "Ks = numpy.arange( 2, 5 + 1, 1 )\n",
    "Ts = numpy.arange( 5, 5 + 1, 1 )\n",
    "\n",
    "# 예제 이미지 데이터\n",
    "img_infos =  [ \n",
    "    { \"name\" : \"lena\",         \"img\" : rgb2gray( io.imread( 'image/lenna.png' ) ) } , \n",
    "    { \"name\" : \"astronaut\",    \"img\" : rgb2gray( data.astronaut() )} ,\n",
    "    { \"name\" : \"camera\",       \"img\" : data.camera() },\n",
    "    \n",
    "    { \"name\" : \"brick\",        \"img\" : data.brick() },    \n",
    "    { \"name\" : \"moon\",         \"img\" : data.moon() },\n",
    "    { \"name\" : \"grass\",        \"img\" : data.grass() },   \n",
    "] \n",
    "\n",
    "img_info = img_infos[0]\n",
    "        \n",
    "test_moment_restore_times( img_info, Ks, Ts, **options )\n",
    "plot_moment_restore_times( img_info, Ks, Ts )\n",
    "\n",
    "print( \"\\nDone.\" )"
   ]
  }
 ],
 "metadata": {
  "interpreter": {
   "hash": "ac59ebe37160ed0dfa835113d9b8498d9f09ceb179beaac4002f036b9467c963"
  },
  "kernelspec": {
   "display_name": "Python 3 (ipykernel)",
   "language": "python",
   "name": "python3"
  },
  "language_info": {
   "codemirror_mode": {
    "name": "ipython",
    "version": 3
   },
   "file_extension": ".py",
   "mimetype": "text/x-python",
   "name": "python",
   "nbconvert_exporter": "python",
   "pygments_lexer": "ipython3",
   "version": "3.9.7"
  }
 },
 "nbformat": 4,
 "nbformat_minor": 4
}
