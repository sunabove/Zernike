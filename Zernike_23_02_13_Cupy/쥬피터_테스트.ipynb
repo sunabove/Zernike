{
 "cells": [
  {
   "cell_type": "code",
   "execution_count": 9,
   "metadata": {},
   "outputs": [
    {
     "name": "stdout",
     "output_type": "stream",
     "text": [
      "    Planet      R (km)            Abc\n",
      "--  --------  --------  -------------\n",
      " 0  Sun         696000     1.9891e+09\n",
      " 1  Earth         6371  5973.6\n",
      " 2  Moon          1737    73.5\n",
      " 3  Mars          3390   641.85\n"
     ]
    },
    {
     "data": {
      "text/html": [
       "<table>\n",
       "<thead>\n",
       "<tr><th style=\"text-align: right;\">  </th><th>Planet  </th><th style=\"text-align: right;\">  R (km)</th><th style=\"text-align: right;\">          Abc</th></tr>\n",
       "</thead>\n",
       "<tbody>\n",
       "<tr><td style=\"text-align: right;\"> 0</td><td>Sun     </td><td style=\"text-align: right;\">  696000</td><td style=\"text-align: right;\">   1.9891e+09</td></tr>\n",
       "<tr><td style=\"text-align: right;\"> 1</td><td>Earth   </td><td style=\"text-align: right;\">    6371</td><td style=\"text-align: right;\">5973.6       </td></tr>\n",
       "<tr><td style=\"text-align: right;\"> 2</td><td>Moon    </td><td style=\"text-align: right;\">    1737</td><td style=\"text-align: right;\">  73.5       </td></tr>\n",
       "<tr><td style=\"text-align: right;\"> 3</td><td>Mars    </td><td style=\"text-align: right;\">    3390</td><td style=\"text-align: right;\"> 641.85      </td></tr>\n",
       "</tbody>\n",
       "</table>"
      ],
      "text/plain": [
       "<IPython.core.display.HTML object>"
      ]
     },
     "metadata": {},
     "output_type": "display_data"
    }
   ],
   "source": [
    "# 테이블 출력 예제 01\n",
    "from IPython.display import HTML, display\n",
    "from tabulate import tabulate\n",
    "\n",
    "table = [[\"Sun\",696000,1989100000],\n",
    "         [\"Earth\",6371,5973.6],\n",
    "         [\"Moon\",1737,73.5],\n",
    "         [\"Mars\",3390,641.85]]\n",
    "\n",
    "print(tabulate(table, headers=[\"Planet\",\"R (km)\", \"Abc\"], showindex=\"always\"))\n",
    "display(HTML(tabulate(table, headers=[\"Planet\",\"R (km)\", \"Abc\"], tablefmt='html', showindex=\"always\")))"
   ]
  },
  {
   "cell_type": "code",
   "execution_count": 8,
   "metadata": {},
   "outputs": [
    {
     "name": "stdout",
     "output_type": "stream",
     "text": [
      "╒═════════╤═════════╤═════════╕\n",
      "│   col 1 │   col 2 │   col 3 │\n",
      "╞═════════╪═════════╪═════════╡\n",
      "│       1 │       2 │       3 │\n",
      "├─────────┼─────────┼─────────┤\n",
      "│       4 │       5 │       6 │\n",
      "╘═════════╧═════════╧═════════╛\n"
     ]
    }
   ],
   "source": [
    "# 테이블 출력 예제 02\n",
    "\n",
    "import numpy as np\n",
    "from tabulate import tabulate\n",
    "\n",
    "m = np.array([[1, 2, 3], [4, 5, 6]])\n",
    "headers = [\"col 1\", \"col 2\", \"col 3\"]\n",
    "\n",
    "# tabulate data\n",
    "table = tabulate(m, headers, tablefmt=\"fancy_grid\")\n",
    "\n",
    "# output\n",
    "print(table)"
   ]
  }
 ],
 "metadata": {
  "interpreter": {
   "hash": "ac59ebe37160ed0dfa835113d9b8498d9f09ceb179beaac4002f036b9467c963"
  },
  "kernelspec": {
   "display_name": "Python 3.9.7 64-bit",
   "language": "python",
   "name": "python3"
  },
  "language_info": {
   "name": "python",
   "version": "3.9.7"
  },
  "orig_nbformat": 4
 },
 "nbformat": 4,
 "nbformat_minor": 2
}
