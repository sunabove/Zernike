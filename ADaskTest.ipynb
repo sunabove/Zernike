{
 "cells": [
  {
   "cell_type": "code",
   "execution_count": 27,
   "metadata": {},
   "outputs": [
    {
     "name": "stdout",
     "output_type": "stream",
     "text": [
      "device = cpu, grid_count = 9_350, scheduler = single-threaded\n",
      "Memory = 4.20 Gb  Elapsed = 10.09 seconds\n",
      "\n",
      "device = multi-cpu, grid_count = 9_350, scheduler = threads\n",
      "Memory = 4.20 Gb  Elapsed = 8.73 seconds\n",
      "\n",
      "device = gpu, grid_count = 9_350, scheduler = single-threaded\n",
      "Memory = 4.20 Gb  Elapsed = 0.10 seconds\n",
      "\n",
      "device = multi-gpu, grid_count = 9_350, scheduler = threads\n",
      "Memory = 4.20 Gb  Elapsed = 0.17 seconds\n",
      "\n"
     ]
    },
    {
     "data": {
      "image/png": "[encoded data removed]",
      "text/plain": [
       "<Figure size 576x432 with 1 Axes>"
      ]
     },
     "metadata": {
      "needs_background": "light"
     },
     "output_type": "display_data"
    },
    {
     "name": "stdout",
     "output_type": "stream",
     "text": [
      "CPU times: user 18.9 s, sys: 4.38 s, total: 23.3 s\n",
      "Wall time: 19.3 s\n"
     ]
    }
   ],
   "source": [
    "%%time \n",
    "\n",
    "from IPython.display import clear_output\n",
    "clear_output()\n",
    "\n",
    "import numpy\n",
    "import cupy \n",
    "import dask.array as da\n",
    "from dask_cuda import LocalCUDACluster\n",
    "from dask.distributed import Client\n",
    "from time import *\n",
    "from time import perf_counter\n",
    "\n",
    "devices = [ \"CPU\", \"Multi-CPU\", \"GPU\", \"Multi-GPU\" ]\n",
    "\n",
    "memories = []\n",
    "durations = []\n",
    "grid_counts = []\n",
    "\n",
    "for device in devices : \n",
    "    device = device.lower()\n",
    "    rs = None\n",
    "\n",
    "    scheduler = \"single-threaded\" \n",
    "\n",
    "    np = None \n",
    "\n",
    "    if device.__contains__( \"multi\" ) :\n",
    "        scheduler = \"threads\"\n",
    "    pass \n",
    "\n",
    "    if device.__contains__( \"cpu\" ):\n",
    "        #print( f\"device is {device}\")\n",
    "        np = numpy\n",
    "    elif device.__contains__( \"gpu\" ) :\n",
    "        #print( f\"device is {device}\")\n",
    "        np = cupy\n",
    "    pass\n",
    "\n",
    "    then = perf_counter()\n",
    "\n",
    "    s = 9_350\n",
    "\n",
    "    print( f\"device = {device}, grid_count = {s:_}, scheduler = {scheduler}\" )\n",
    "\n",
    "    t = np.random.rand( s*s ) + 1j*np.random.rand( s*s )\n",
    "    t = t.reshape( s, s )\n",
    "    x = da.from_array( t, chunks=(2**14, 2*14) )\n",
    "    \n",
    "    t = np.random.rand( s*s ) + 1j*np.random.rand( s*s )\n",
    "    t = t.reshape( s, s )\n",
    "    y = da.from_array( t, chunks=(2**14, 2*14) )    \n",
    "\n",
    "    z = x*y\n",
    "    z = z.compute(scheduler=scheduler)\n",
    "\n",
    "    arrays = [ x, y, z ]\n",
    "\n",
    "    bytes = 0 \n",
    "\n",
    "    for array in arrays :\n",
    "        bytes += array.nbytes\n",
    "    pass\n",
    "\n",
    "    elapsed = perf_counter() - then\n",
    "\n",
    "    memories.append( bytes )\n",
    "    durations.append( elapsed )\n",
    "    grid_counts.append( s )\n",
    "\n",
    "    print( f\"Memory = {bytes/1e9:.2f} Gb\", f\" Elapsed = {elapsed:.2f} seconds\" )\n",
    "    print() \n",
    "\n",
    "    del t, x, y, z \n",
    "pass\n",
    "\n",
    "from matplotlib import pyplot as plt\n",
    "\n",
    "row_cnt = 1; col_cnt = 1\n",
    "fig, charts = plt.subplots( row_cnt, col_cnt, figsize=( 8*col_cnt, 6*row_cnt) )\n",
    "charts = charts.flatten() if row_cnt*col_cnt > 1 else [charts]\n",
    "chart_idx = 0 \n",
    "chart = charts[ chart_idx ]\n",
    "\n",
    "n = len( devices )\n",
    "x = numpy.arange( n )\n",
    "\n",
    "memories = numpy.array( memories )/1e6\n",
    "durations = numpy.array( durations )*1e3\n",
    "\n",
    "w = 0.2 \n",
    "\n",
    "idx = -1\n",
    "chart.bar ( x + w*idx, memories, label=\"Memory (Mb)\", width=w ); idx+=1\n",
    "chart.bar ( x + w*idx, grid_counts, label=\"Grid Count\", width=w ); idx+=1\n",
    "chart.bar ( x + w*idx, durations, label=\"Running Time(mili sec.)\", width=w );\n",
    "chart.plot( x + w*idx, durations, marker=\"D\" )\n",
    "\n",
    "chart.set_title( f\"\\nArray Multiplication Performance\\n\" )\n",
    "chart.set_xlabel( \"Device\\n\" )\n",
    "chart.set_xticks( x )\n",
    "chart.set_xticklabels( devices ) \n",
    "chart.legend(loc=\"lower center\", bbox_to_anchor=(0.5, -0.2), ncol=n)\n",
    "\n",
    "plt.tight_layout()\n",
    "plt.savefig( f\"./result/array_multiplication_performance.png\" )\n",
    "plt.show()\n"
   ]
  }
 ],
 "metadata": {
  "interpreter": {
   "hash": "916dbcbb3f70747c44a77c7bcd40155683ae19c65e1c03b4aa3499c5328201f1"
  },
  "kernelspec": {
   "display_name": "Python 3.9.7 64-bit",
   "language": "python",
   "name": "python3"
  },
  "language_info": {
   "codemirror_mode": {
    "name": "ipython",
    "version": 3
   },
   "file_extension": ".py",
   "mimetype": "text/x-python",
   "name": "python",
   "nbconvert_exporter": "python",
   "pygments_lexer": "ipython3",
   "version": "3.9.7"
  },
  "orig_nbformat": 4
 },
 "nbformat": 4,
 "nbformat_minor": 2
}
