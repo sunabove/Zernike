{
 "cells": [
  {
   "cell_type": "code",
   "execution_count": 12,
   "metadata": {},
   "outputs": [
    {
     "name": "stdout",
     "output_type": "stream",
     "text": [
      "12.8 GB\n"
     ]
    }
   ],
   "source": [
    "import cupy\n",
    "import dask.array as da\n",
    "from time import *\n",
    "from time import perf_counter\n",
    "\n",
    "# generate chunked dask arrays of mamy numpy random arrays\n",
    "rs = da.random.RandomState()\n",
    "\n",
    "s = 40_000\n",
    "\n",
    "x = rs.normal(10, 1, size=(s, s), chunks=(10_000, 10_000))\n",
    "y = rs.normal(10, 1, size=(s, s), chunks=(10_000, 10_000))\n",
    "\n",
    "print( f\"{x.nbytes / 1e9:_} GB\" )  # 2 TB"
   ]
  },
  {
   "cell_type": "code",
   "execution_count": 10,
   "metadata": {},
   "outputs": [
    {
     "name": "stdout",
     "output_type": "stream",
     "text": [
      "1203.479483156\n"
     ]
    }
   ],
   "source": []
  },
  {
   "cell_type": "markdown",
   "metadata": {},
   "source": []
  },
  {
   "cell_type": "code",
   "execution_count": 2,
   "metadata": {},
   "outputs": [
    {
     "name": "stdout",
     "output_type": "stream",
     "text": [
      "device is cpu\n",
      "device = cpu, size = 90_000, scheduler = single-threaded\n"
     ]
    }
   ],
   "source": [
    "%%time \n",
    "\n",
    "from IPython.display import clear_output\n",
    "clear_output()\n",
    "\n",
    "import numpy\n",
    "import cupy \n",
    "import dask.array as da\n",
    "from dask_cuda import LocalCUDACluster\n",
    "from dask.distributed import Client\n",
    "from time import *\n",
    "from time import perf_counter\n",
    "\n",
    "devices = [ \"cpu\", \"multi-cpu\", \"gpu\", \"multi-gpu\" ]\n",
    "\n",
    "for device in devices : \n",
    "    rs = None\n",
    "\n",
    "    scheduler = \"single-threaded\" \n",
    "\n",
    "    np = None \n",
    "\n",
    "    if device.__contains__( \"multi\" ) :\n",
    "        scheduler = \"threads\"\n",
    "    pass \n",
    "\n",
    "    if device.__contains__( \"cpu\" ):\n",
    "        print( f\"device is {device}\")\n",
    "        np = numpy\n",
    "    elif device.__contains__( \"gpu\" ) :\n",
    "        print( f\"device is {device}\")\n",
    "        np = cupy\n",
    "    pass\n",
    "\n",
    "    then = perf_counter()\n",
    "\n",
    "    s = 9_000\n",
    "\n",
    "    print( f\"device = {device}, size = {s:_}, scheduler = {scheduler}\" )\n",
    "\n",
    "    t = np.random.rand( s*s ) + 1j*np.random.rand( s*s )\n",
    "    t = t.reshape( s, s )\n",
    "    x = da.from_array( t, chunks=(2**14, 2*14) )\n",
    "    \n",
    "    t = np.random.rand( s*s ) + 1j*np.random.rand( s*s )\n",
    "    t = t.reshape( s, s )\n",
    "    y = da.from_array( t, chunks=(2**14, 2*14) )    \n",
    "\n",
    "    z = x*y\n",
    "    z = z.compute(scheduler=scheduler)\n",
    "\n",
    "    arrays = [ x, y, z ]\n",
    "\n",
    "    bytes = 0 \n",
    "\n",
    "    for array in arrays :\n",
    "        bytes += array.nbytes\n",
    "    pass\n",
    "\n",
    "    print( f\"bytes = {bytes/1e9:.2f} Gb\" )\n",
    "\n",
    "    elapsed = perf_counter() - then\n",
    "\n",
    "    print( f\"elapsed = {elapsed:.2f} seconds\" )\n",
    "    print() \n",
    "\n",
    "    del t, x, y, z \n",
    "pass"
   ]
  },
  {
   "cell_type": "code",
   "execution_count": null,
   "metadata": {},
   "outputs": [],
   "source": [
    "\n",
    "s1 = (x + 1)[::2, ::2].sum().compute(scheduler='single-threaded')\n",
    "print(\"s1 = \", s1 )"
   ]
  }
 ],
 "metadata": {
  "interpreter": {
   "hash": "916dbcbb3f70747c44a77c7bcd40155683ae19c65e1c03b4aa3499c5328201f1"
  },
  "kernelspec": {
   "display_name": "Python 3.9.7 64-bit",
   "language": "python",
   "name": "python3"
  },
  "language_info": {
   "codemirror_mode": {
    "name": "ipython",
    "version": 3
   },
   "file_extension": ".py",
   "mimetype": "text/x-python",
   "name": "python",
   "nbconvert_exporter": "python",
   "pygments_lexer": "ipython3",
   "version": "3.9.7"
  },
  "orig_nbformat": 4
 },
 "nbformat": 4,
 "nbformat_minor": 2
}
