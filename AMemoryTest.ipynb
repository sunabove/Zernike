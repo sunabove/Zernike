{
 "cells": [
  {
   "cell_type": "code",
   "execution_count": 2,
   "metadata": {},
   "outputs": [
    {
     "name": "stdout",
     "output_type": "stream",
     "text": [
      "Hello...\n",
      "use_gpu = 0\n",
      "\n",
      "numpy int32 (4 bytes)\n",
      "resolution = 1_024, size = 4194304, size_m = 4.2, natural size = 4.2 MB\n",
      "resolution = 2_048, size = 16777216, size_m = 16.8, natural size = 16.8 MB\n"
     ]
    }
   ],
   "source": [
    "import numpy \n",
    "import cupy\n",
    "import math\n",
    "from humanize import naturalsize\n",
    "from matplotlib import pyplot as plt\n",
    "\n",
    "print( \"Hello...\" )\n",
    "\n",
    "debug = 1\n",
    "row_cnt = 1; col_cnt = 1\n",
    "fig, charts = plt.subplots( row_cnt, col_cnt, figsize=( 8*col_cnt, 6*row_cnt) )\n",
    "charts = charts.flatten() if row_cnt*col_cnt > 1 else [charts]\n",
    "chart_idx = 0 \n",
    "chart = charts[ chart_idx ]\n",
    "\n",
    "use_gpus = [0, 1]\n",
    "\n",
    "for use_gpu in [ 0, 1 ] : \n",
    "    print( f\"use_gpu = {use_gpu}\" )\n",
    "    print( flush=1 )\n",
    "\n",
    "    np = cupy if use_gpu else numpy\n",
    "\n",
    "    data_types = [ np.int_, np.longlong, np.double, np.csingle, np.cdouble ]\n",
    "\n",
    "    for data_type in data_types :\n",
    "        array = np.array( 1, data_type )\n",
    "        data_type_size = array.nbytes\n",
    "        \n",
    "        type_str = f\"{data_type}\".split( \" \" )[-1].split(\".\")[-1].split( \"'\")[0]\n",
    "        type_str = [ \"numpy \", \"cupy \"][use_gpu] + type_str\n",
    "        type_str = f\"{type_str } ({data_type_size} bytes)\"\n",
    "        \n",
    "        print( type_str, flush=1 )\n",
    "        \n",
    "        resolutions = []\n",
    "        memories = []\n",
    "        label = type_str\n",
    "        \n",
    "        for res in range( 10, 12, 1 ) :\n",
    "            try : \n",
    "                resolution = 2**res                \n",
    "                array = np.zeros( (resolution, resolution ), data_type )\n",
    "                size = array.nbytes\n",
    "                size_m = size / 10**6 \n",
    "                debug and print( f\"resolution = {resolution:_}, size = {size}, size_m = {size_m:_.1f}, natural size = {naturalsize(size)}\", flush=1 )\n",
    "                del array\n",
    "                \n",
    "                resolutions.append( resolutions )\n",
    "                memories.append( size_m/1_000 )\n",
    "            except  : \n",
    "                break;\n",
    "            pass\n",
    "        pass\n",
    "    \n",
    "        x = numpy.log10( numpy.array( resolutions ) )\n",
    "        y = numpy.log10( numpy.array( memories ) )\n",
    "    \n",
    "        chart.bar( x, y, label=label )\n",
    "    \n",
    "        print()\n",
    "    pass\n",
    "\n",
    "    print()\n",
    "pass\n",
    "\n",
    "chart.set_title( \"\\nMemory Allocation Size\\n\" )\n",
    "chart.set_xlabel( \"\\nGrid Size\" )\n",
    "chart.set_ylabel( \"Gb\" )\n",
    "chart.legend()\n",
    "\n",
    "plt.tight_layout(); plt.show()\n",
    "\n",
    "print( \"Done.\" )"
   ]
  }
 ],
 "metadata": {
  "interpreter": {
   "hash": "ac59ebe37160ed0dfa835113d9b8498d9f09ceb179beaac4002f036b9467c963"
  },
  "kernelspec": {
   "display_name": "Python 3.9.7 64-bit",
   "language": "python",
   "name": "python3"
  },
  "language_info": {
   "codemirror_mode": {
    "name": "ipython",
    "version": 3
   },
   "file_extension": ".py",
   "mimetype": "text/x-python",
   "name": "python",
   "nbconvert_exporter": "python",
   "pygments_lexer": "ipython3",
   "version": "3.9.7"
  },
  "orig_nbformat": 4
 },
 "nbformat": 4,
 "nbformat_minor": 2
}
