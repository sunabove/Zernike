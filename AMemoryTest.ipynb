{
 "cells": [
  {
   "cell_type": "code",
   "execution_count": 8,
   "metadata": {},
   "outputs": [
    {
     "name": "stdout",
     "output_type": "stream",
     "text": [
      "use_gpu = 0\n",
      "\n",
      "numpy int32\n",
      "size = 8388608, size_m = 8.4, natural size = 8.4 MB\n",
      "size = 33554432, size_m = 33.6, natural size = 33.6 MB\n",
      "size = 134217728, size_m = 134.2, natural size = 134.2 MB\n",
      "size = 536870912, size_m = 536.9, natural size = 536.9 MB\n",
      "size = 2147483648, size_m = 2_147.5, natural size = 2.1 GB\n",
      "size = 8589934592, size_m = 8_589.9, natural size = 8.6 GB\n"
     ]
    },
    {
     "ename": "MemoryError",
     "evalue": "Unable to allocate 32.0 GiB for an array with shape (65536, 65536) and data type float64",
     "output_type": "error",
     "traceback": [
      "\u001b[1;31m---------------------------------------------------------------------------\u001b[0m",
      "\u001b[1;31mMemoryError\u001b[0m                               Traceback (most recent call last)",
      "\u001b[1;32m~\\AppData\\Local\\Temp/ipykernel_38292/3767183381.py\u001b[0m in \u001b[0;36m<module>\u001b[1;34m\u001b[0m\n\u001b[0;32m     21\u001b[0m         \u001b[1;32mfor\u001b[0m \u001b[0mres\u001b[0m \u001b[1;32min\u001b[0m \u001b[0mrange\u001b[0m\u001b[1;33m(\u001b[0m \u001b[1;36m10\u001b[0m\u001b[1;33m,\u001b[0m \u001b[1;36m21\u001b[0m \u001b[1;33m,\u001b[0m \u001b[1;36m1\u001b[0m \u001b[1;33m)\u001b[0m \u001b[1;33m:\u001b[0m\u001b[1;33m\u001b[0m\u001b[1;33m\u001b[0m\u001b[0m\n\u001b[0;32m     22\u001b[0m             \u001b[0mresolution\u001b[0m \u001b[1;33m=\u001b[0m \u001b[1;36m2\u001b[0m\u001b[1;33m**\u001b[0m\u001b[0mres\u001b[0m\u001b[1;33m\u001b[0m\u001b[1;33m\u001b[0m\u001b[0m\n\u001b[1;32m---> 23\u001b[1;33m             \u001b[0marray\u001b[0m \u001b[1;33m=\u001b[0m \u001b[0mnp\u001b[0m\u001b[1;33m.\u001b[0m\u001b[0mzeros\u001b[0m\u001b[1;33m(\u001b[0m \u001b[1;33m(\u001b[0m\u001b[0mresolution\u001b[0m\u001b[1;33m,\u001b[0m \u001b[0mresolution\u001b[0m \u001b[1;33m)\u001b[0m \u001b[1;33m)\u001b[0m\u001b[1;33m\u001b[0m\u001b[1;33m\u001b[0m\u001b[0m\n\u001b[0m\u001b[0;32m     24\u001b[0m             \u001b[0msize\u001b[0m \u001b[1;33m=\u001b[0m \u001b[0marray\u001b[0m\u001b[1;33m.\u001b[0m\u001b[0mnbytes\u001b[0m\u001b[1;33m\u001b[0m\u001b[1;33m\u001b[0m\u001b[0m\n\u001b[0;32m     25\u001b[0m             \u001b[0msize_m\u001b[0m \u001b[1;33m=\u001b[0m \u001b[0msize\u001b[0m \u001b[1;33m/\u001b[0m \u001b[1;36m10\u001b[0m\u001b[1;33m**\u001b[0m\u001b[1;36m6\u001b[0m\u001b[1;33m\u001b[0m\u001b[1;33m\u001b[0m\u001b[0m\n",
      "\u001b[1;31mMemoryError\u001b[0m: Unable to allocate 32.0 GiB for an array with shape (65536, 65536) and data type float64"
     ]
    }
   ],
   "source": [
    "import numpy \n",
    "import cupy\n",
    "from humanize import naturalsize\n",
    "\n",
    "use_gpus = [0, 1]\n",
    "\n",
    "for use_gpu in [ 0, 1 ] : \n",
    "    print( f\"use_gpu = {use_gpu}\" )\n",
    "    print()\n",
    "\n",
    "    np = cupy if use_gpu else numpy\n",
    "\n",
    "    data_types = [ np.int_, np.longlong, np.double, np.csingle, np.cdouble ]\n",
    "\n",
    "    for data_type in data_types :\n",
    "        type_str = f\"{data_type}\".split( \" \" )[-1].split(\".\")[-1].split( \"'\")[0]\n",
    "        type_str = [ \"numpy \", \"cupy \"][use_gpu] + type_str\n",
    "        \n",
    "        print( type_str )\n",
    "        \n",
    "        for res in range( 10, 21 , 1 ) :\n",
    "            resolution = 2**res\n",
    "            array = np.zeros( (resolution, resolution ) )\n",
    "            size = array.nbytes\n",
    "            size_m = size / 10**6\n",
    "            print( f\"size = {size}, size_m = {size_m:_.1f}, natural size = {naturalsize(size)}\" )\n",
    "    pass\n",
    "\n",
    "    print()\n",
    "pass"
   ]
  }
 ],
 "metadata": {
  "interpreter": {
   "hash": "ac59ebe37160ed0dfa835113d9b8498d9f09ceb179beaac4002f036b9467c963"
  },
  "kernelspec": {
   "display_name": "Python 3.9.7 64-bit",
   "language": "python",
   "name": "python3"
  },
  "language_info": {
   "codemirror_mode": {
    "name": "ipython",
    "version": 3
   },
   "file_extension": ".py",
   "mimetype": "text/x-python",
   "name": "python",
   "nbconvert_exporter": "python",
   "pygments_lexer": "ipython3",
   "version": "3.9.7"
  },
  "orig_nbformat": 4
 },
 "nbformat": 4,
 "nbformat_minor": 2
}
